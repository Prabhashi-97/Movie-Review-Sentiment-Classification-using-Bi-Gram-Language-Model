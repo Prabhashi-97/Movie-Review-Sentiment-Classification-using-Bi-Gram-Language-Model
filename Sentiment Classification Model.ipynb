{
  "nbformat": 4,
  "nbformat_minor": 0,
  "metadata": {
    "colab": {
      "provenance": []
    },
    "kernelspec": {
      "name": "python3",
      "display_name": "Python 3"
    },
    "language_info": {
      "name": "python"
    }
  },
  "cells": [
    {
      "cell_type": "markdown",
      "source": [
        "#**Sentiment Classification Model using Bi-Gram Language Model**"
      ],
      "metadata": {
        "id": "9dJylgPWBfjP"
      }
    },
    {
      "cell_type": "markdown",
      "source": [
        "##Necessary Imports"
      ],
      "metadata": {
        "id": "vHQs4llkrIah"
      }
    },
    {
      "cell_type": "code",
      "source": [
        "import nltk\n",
        "from nltk.tokenize import sent_tokenize, word_tokenize\n",
        "from nltk.corpus import stopwords\n",
        "nltk.download('stopwords')\n",
        "import string\n",
        "from nltk import pos_tag\n",
        "from nltk.stem import WordNetLemmatizer\n",
        "nltk.download('wordnet')\n",
        "nltk.download('punkt')\n",
        "from nltk import bigrams, FreqDist\n",
        "import re\n",
        "nltk.download('averaged_perceptron_tagger')"
      ],
      "metadata": {
        "colab": {
          "base_uri": "https://localhost:8080/"
        },
        "id": "MXPSgbndrFcy",
        "outputId": "4b61b7b2-ecca-47b2-a6e7-78091917f4ee"
      },
      "execution_count": null,
      "outputs": [
        {
          "output_type": "stream",
          "name": "stderr",
          "text": [
            "[nltk_data] Downloading package stopwords to /root/nltk_data...\n",
            "[nltk_data]   Package stopwords is already up-to-date!\n",
            "[nltk_data] Downloading package wordnet to /root/nltk_data...\n",
            "[nltk_data]   Package wordnet is already up-to-date!\n",
            "[nltk_data] Downloading package punkt to /root/nltk_data...\n",
            "[nltk_data]   Package punkt is already up-to-date!\n",
            "[nltk_data] Downloading package averaged_perceptron_tagger to\n",
            "[nltk_data]     /root/nltk_data...\n",
            "[nltk_data]   Package averaged_perceptron_tagger is already up-to-\n",
            "[nltk_data]       date!\n"
          ]
        },
        {
          "output_type": "execute_result",
          "data": {
            "text/plain": [
              "True"
            ]
          },
          "metadata": {},
          "execution_count": 106
        }
      ]
    },
    {
      "cell_type": "markdown",
      "source": [
        "##File Read"
      ],
      "metadata": {
        "id": "M-Q-IXXkDmmE"
      }
    },
    {
      "cell_type": "code",
      "source": [
        "# Open the file \"Movie_Reviews.txt\" in read mode and read its content into the variable \"movie_reviews\"\n",
        "with open(\"Movie_Reviews.txt\", \"r\") as file:\n",
        "    movie_reviews = file.read()"
      ],
      "metadata": {
        "id": "9UNsK-dYzcCi"
      },
      "execution_count": null,
      "outputs": []
    },
    {
      "cell_type": "markdown",
      "source": [
        "##Seperate Negative and Postive Reviews"
      ],
      "metadata": {
        "id": "k4Dbyj-FDtrq"
      }
    },
    {
      "cell_type": "code",
      "source": [
        "# Split the content based on the headers of positive and negative reviews\n",
        "positive_reviews_start = movie_reviews.find(\"Positive Reviews\")\n",
        "negative_reviews_start = movie_reviews.find(\"Negative Reviews\")"
      ],
      "metadata": {
        "id": "EG0Qel_x_prb"
      },
      "execution_count": null,
      "outputs": []
    },
    {
      "cell_type": "code",
      "source": [
        "# Extract the positive reviews\n",
        "positive_reviews = movie_reviews[positive_reviews_start:negative_reviews_start].strip()\n",
        "\n",
        "# Remove the line after \"================\"\n",
        "positive_reviews = positive_reviews.split(\"\\n================\")[1]\n",
        "\n",
        "# Split the positive reviews by newline\n",
        "positive_reviews_list = positive_reviews.split('\\n')"
      ],
      "metadata": {
        "id": "CO8clExLDSPv"
      },
      "execution_count": null,
      "outputs": []
    },
    {
      "cell_type": "code",
      "source": [
        "# Remove the initial header\n",
        "positive_reviews_list = [review for review in positive_reviews_list if review]"
      ],
      "metadata": {
        "id": "7NjWAuRXELK1"
      },
      "execution_count": null,
      "outputs": []
    },
    {
      "cell_type": "code",
      "source": [
        "# Extract the negative reviews\n",
        "negative_reviews = movie_reviews[negative_reviews_start:].strip()\n",
        "\n",
        "# Remove the line after \"================\"\n",
        "negative_reviews = negative_reviews.split(\"\\n================\")[1]\n",
        "\n",
        "# Split the negative reviews by newline\n",
        "negative_reviews_list = negative_reviews.split('\\n')\n"
      ],
      "metadata": {
        "id": "fpqRCmyKEwJv"
      },
      "execution_count": null,
      "outputs": []
    },
    {
      "cell_type": "code",
      "source": [
        "# Remove the initial header\n",
        "negative_reviews_list = [review for review in negative_reviews_list if review]"
      ],
      "metadata": {
        "id": "qQ1xR65zqyio"
      },
      "execution_count": null,
      "outputs": []
    },
    {
      "cell_type": "code",
      "source": [
        "print(positive_reviews_list)"
      ],
      "metadata": {
        "colab": {
          "base_uri": "https://localhost:8080/"
        },
        "id": "FY6dg9yR6X2L",
        "outputId": "85c6bff9-62ed-4c02-bc14-25300cdba549"
      },
      "execution_count": null,
      "outputs": [
        {
          "output_type": "stream",
          "name": "stdout",
          "text": [
            "['1. \"Forrest Gump is an absolute masterpiece! Tom Hanks delivers an unforgettable performance, and the storytelling is heartwarming. This movie is a journey through life that will make you laugh, cry, and appreciate the simple beauties of existence.\"', '2. \"The Shawshank Redemption is a timeless classic. The powerful themes of hope, friendship, and redemption make it a must-watch. Morgan Freeman and Tim Robbins give exceptional performances in this brilliantly crafted film.\"', '3. \"The epic conclusion to The Lord of the Rings trilogy, The Return of the King, is a cinematic triumph. The breathtaking visuals, epic battles, and emotionally resonant story make it a monumental achievement in filmmaking.\"', '4. \"La La Land is a love letter to the magic of Hollywood and dreams. The chemistry between Ryan Gosling and Emma Stone is enchanting, and the music and dance sequences are a pure delight. A modern musical masterpiece.\"', '5. \"Wes Anderson\\'s whimsical style shines in The Grand Budapest Hotel. With its quirky characters and colorful cinematography, it\\'s a visual and narrative delight. This film is a charming and delightful experience.\"', '6.\"Inception is mind-bending brilliance! Christopher Nolan\\'s intricate plot, stunning visual effects, and Hans Zimmer\\'s haunting score create a cinematic journey that keeps you on the edge of your seat. A true masterpiece of sci-fi cinema.\"', '7. \"The Social Network is a captivating exploration of the creation of Facebook and the personal and legal conflicts that ensued. David Fincher\\'s direction and Aaron Sorkin\\'s sharp screenplay make this film a modern classic.\"', '8. \"Will Smith\\'s portrayal of Chris Gardner in The Pursuit of Happyness is both touching and inspirational. This film reminds us that with determination and unwavering spirit, anyone can overcome adversity to achieve their dreams.\"', '9. \"Eternal Sunshine of the Spotless Mind is a beautifully unconventional love story. Jim Carrey and Kate Winslet shine in their roles, and the narrative, told in a non-linear fashion, is a poignant exploration of love, memories, and human connection.\"', '10. \"The Princess Bride is a timeless fairy tale with a perfect blend of humor, romance, and adventure. Its witty dialogue and memorable characters make it a film that appeals to both kids and adults. Inconceivably delightful!\"', '11. \"Fifty Shades of Grey\" has managed to captivate both enthusiasts and critics alike. The film\\'s ability to spark passionate discussions and elicit a wide range of opinions is a testament to its impact. While some may find it controversial, there\\'s no denying that it has left a significant mark on the world of cinema.', '12. \"This film has been a conversation starter, and it\\'s clear that it won\\'t be everyone\\'s cup of tea. But for those willing to approach it with an open mind, there\\'s a visually lush experience with moments of genuine chemistry between the leads. It\\'s a film that has managed to offer something different and intriguing in the world of romance and drama.\"']\n"
          ]
        }
      ]
    },
    {
      "cell_type": "code",
      "source": [
        "print(negative_reviews_list)"
      ],
      "metadata": {
        "colab": {
          "base_uri": "https://localhost:8080/"
        },
        "id": "MHIXlzy_09tI",
        "outputId": "271c35d6-452a-4406-a357-01dc02f1a92e"
      },
      "execution_count": null,
      "outputs": [
        {
          "output_type": "stream",
          "name": "stdout",
          "text": [
            "['1. \"The Last Airbender is a disaster of a film adaptation. It butchers the beloved animated series with wooden acting, convoluted storytelling, and cringe-worthy special effects. A letdown for fans and newcomers alike.\"', '2. \"Another Transformers movie, and it\\'s just more of the same: mindless explosions, incoherent plotlines, and an overreliance on CGI. This franchise desperately needs an overhaul.\"', '3. \"The Emoji Movie is a blatant cash grab with a shallow, uninspired plot. It fails to deliver clever humor or meaningful messages, making it a forgettable and disappointing animated film.\"', '4. \"Fifty Shades of Grey is a cringe-inducing attempt at romance. Poorly written dialogue and unconvincing chemistry between the leads make it an awkward and unfulfilling cinematic experience.\"', '5. \"Jack and Jill is an unbearable comedy that relies on stale humor and a painfully unfunny portrayal of Adam Sandler in a dual role. It\\'s a prime example of lazy filmmaking.\"', '6. \"Superman IV is a colossal disappointment. It\\'s marred by a low budget, laughable special effects, and a poorly conceived story. Even Christopher Reeve\\'s charm can\\'t save this mess.\"', '7. \"The Cat in the Hat is a chaotic and misguided adaptation of Dr. Seuss\\'s classic. It sacrifices the charm and simplicity of the source material for crude humor and a lackluster narrative.\"', '8. \"The Room is widely regarded as one of the worst films ever made. Its disjointed plot, stilted acting, and bizarre dialogue have turned it into a cult classic, but not for the right reasons.\"', '9. \"Battlefield Earth is a sci-fi disaster. It\\'s a convoluted mess with hammy acting and laughable special effects. A film that should have remained buried in the annals of cinematic history.\"', '10. \"Gigli is a train wreck of a romantic comedy. The pairing of Ben Affleck and Jennifer Lopez is devoid of chemistry, and the dialogue is cringeworthy. It\\'s an embarrassing misstep in both their careers.\"', '11. \"Fifty Shades of Grey\" is a film that has divided enthusiasts and critics. While it has its share of devoted fans, it also faces substantial criticism. For some, the film\\'s content and execution leave much to be desired, making it a polarizing cinematic experience. Viewer reactions may vary widely, so it\\'s a movie that evokes strong opinions on both ends of the spectrum.', '12. \"This film\\'s portrayal of relationships and themes may leave many viewers uncomfortable. It tests the limits of what some may find acceptable in mainstream cinema. So, while the idea of keeping an open mind is essential in film-watching, this particular movie might push that openness to its boundaries for some.\"']\n"
          ]
        }
      ]
    },
    {
      "cell_type": "markdown",
      "source": [
        "##Preprocessing raw text for Sentiment Analysis"
      ],
      "metadata": {
        "id": "ok7O8NJ6slHR"
      }
    },
    {
      "cell_type": "markdown",
      "source": [
        "###Convert to Lower Case"
      ],
      "metadata": {
        "id": "Tfj51LQ8tNAp"
      }
    },
    {
      "cell_type": "code",
      "source": [
        "# Convert positive reviews to lowercase\n",
        "positive_reviews_lowercase= [review.lower() for review in positive_reviews_list]\n",
        "print( positive_reviews_lowercase)"
      ],
      "metadata": {
        "colab": {
          "base_uri": "https://localhost:8080/"
        },
        "id": "ApMdCA_50hyf",
        "outputId": "96f4d79b-aec1-4b6d-c1a0-8ea5a7152f7d"
      },
      "execution_count": null,
      "outputs": [
        {
          "output_type": "stream",
          "name": "stdout",
          "text": [
            "['1. \"forrest gump is an absolute masterpiece! tom hanks delivers an unforgettable performance, and the storytelling is heartwarming. this movie is a journey through life that will make you laugh, cry, and appreciate the simple beauties of existence.\"', '2. \"the shawshank redemption is a timeless classic. the powerful themes of hope, friendship, and redemption make it a must-watch. morgan freeman and tim robbins give exceptional performances in this brilliantly crafted film.\"', '3. \"the epic conclusion to the lord of the rings trilogy, the return of the king, is a cinematic triumph. the breathtaking visuals, epic battles, and emotionally resonant story make it a monumental achievement in filmmaking.\"', '4. \"la la land is a love letter to the magic of hollywood and dreams. the chemistry between ryan gosling and emma stone is enchanting, and the music and dance sequences are a pure delight. a modern musical masterpiece.\"', '5. \"wes anderson\\'s whimsical style shines in the grand budapest hotel. with its quirky characters and colorful cinematography, it\\'s a visual and narrative delight. this film is a charming and delightful experience.\"', '6.\"inception is mind-bending brilliance! christopher nolan\\'s intricate plot, stunning visual effects, and hans zimmer\\'s haunting score create a cinematic journey that keeps you on the edge of your seat. a true masterpiece of sci-fi cinema.\"', '7. \"the social network is a captivating exploration of the creation of facebook and the personal and legal conflicts that ensued. david fincher\\'s direction and aaron sorkin\\'s sharp screenplay make this film a modern classic.\"', '8. \"will smith\\'s portrayal of chris gardner in the pursuit of happyness is both touching and inspirational. this film reminds us that with determination and unwavering spirit, anyone can overcome adversity to achieve their dreams.\"', '9. \"eternal sunshine of the spotless mind is a beautifully unconventional love story. jim carrey and kate winslet shine in their roles, and the narrative, told in a non-linear fashion, is a poignant exploration of love, memories, and human connection.\"', '10. \"the princess bride is a timeless fairy tale with a perfect blend of humor, romance, and adventure. its witty dialogue and memorable characters make it a film that appeals to both kids and adults. inconceivably delightful!\"', '11. \"fifty shades of grey\" has managed to captivate both enthusiasts and critics alike. the film\\'s ability to spark passionate discussions and elicit a wide range of opinions is a testament to its impact. while some may find it controversial, there\\'s no denying that it has left a significant mark on the world of cinema.', '12. \"this film has been a conversation starter, and it\\'s clear that it won\\'t be everyone\\'s cup of tea. but for those willing to approach it with an open mind, there\\'s a visually lush experience with moments of genuine chemistry between the leads. it\\'s a film that has managed to offer something different and intriguing in the world of romance and drama.\"']\n"
          ]
        }
      ]
    },
    {
      "cell_type": "code",
      "source": [
        "# Convert negative reviews to lowercase\n",
        "negative_reviews_lowercase = [review.lower() for review in negative_reviews_list]\n",
        "print( negative_reviews_lowercase)"
      ],
      "metadata": {
        "colab": {
          "base_uri": "https://localhost:8080/"
        },
        "id": "0MAJ_sIO-pF0",
        "outputId": "f6e112cc-c9c8-4e01-c9b2-2162a04c4cbb"
      },
      "execution_count": null,
      "outputs": [
        {
          "output_type": "stream",
          "name": "stdout",
          "text": [
            "['1. \"the last airbender is a disaster of a film adaptation. it butchers the beloved animated series with wooden acting, convoluted storytelling, and cringe-worthy special effects. a letdown for fans and newcomers alike.\"', '2. \"another transformers movie, and it\\'s just more of the same: mindless explosions, incoherent plotlines, and an overreliance on cgi. this franchise desperately needs an overhaul.\"', '3. \"the emoji movie is a blatant cash grab with a shallow, uninspired plot. it fails to deliver clever humor or meaningful messages, making it a forgettable and disappointing animated film.\"', '4. \"fifty shades of grey is a cringe-inducing attempt at romance. poorly written dialogue and unconvincing chemistry between the leads make it an awkward and unfulfilling cinematic experience.\"', '5. \"jack and jill is an unbearable comedy that relies on stale humor and a painfully unfunny portrayal of adam sandler in a dual role. it\\'s a prime example of lazy filmmaking.\"', '6. \"superman iv is a colossal disappointment. it\\'s marred by a low budget, laughable special effects, and a poorly conceived story. even christopher reeve\\'s charm can\\'t save this mess.\"', '7. \"the cat in the hat is a chaotic and misguided adaptation of dr. seuss\\'s classic. it sacrifices the charm and simplicity of the source material for crude humor and a lackluster narrative.\"', '8. \"the room is widely regarded as one of the worst films ever made. its disjointed plot, stilted acting, and bizarre dialogue have turned it into a cult classic, but not for the right reasons.\"', '9. \"battlefield earth is a sci-fi disaster. it\\'s a convoluted mess with hammy acting and laughable special effects. a film that should have remained buried in the annals of cinematic history.\"', '10. \"gigli is a train wreck of a romantic comedy. the pairing of ben affleck and jennifer lopez is devoid of chemistry, and the dialogue is cringeworthy. it\\'s an embarrassing misstep in both their careers.\"', '11. \"fifty shades of grey\" is a film that has divided enthusiasts and critics. while it has its share of devoted fans, it also faces substantial criticism. for some, the film\\'s content and execution leave much to be desired, making it a polarizing cinematic experience. viewer reactions may vary widely, so it\\'s a movie that evokes strong opinions on both ends of the spectrum.', '12. \"this film\\'s portrayal of relationships and themes may leave many viewers uncomfortable. it tests the limits of what some may find acceptable in mainstream cinema. so, while the idea of keeping an open mind is essential in film-watching, this particular movie might push that openness to its boundaries for some.\"']\n"
          ]
        }
      ]
    },
    {
      "cell_type": "markdown",
      "source": [
        "###Tokenization"
      ],
      "metadata": {
        "id": "pDnqMyV5CS5-"
      }
    },
    {
      "cell_type": "code",
      "source": [
        "# Tokenize positive and negative reviews into words\n",
        "tokenized_positive_reviews = [word_tokenize(review) for review in positive_reviews_lowercase]\n",
        "tokenized_negative_reviews = [word_tokenize(review) for review in negative_reviews_lowercase]"
      ],
      "metadata": {
        "id": "P_PdCRasAiP-"
      },
      "execution_count": null,
      "outputs": []
    },
    {
      "cell_type": "code",
      "source": [
        "# Flatten the lists of tokenized words\n",
        "flatted_positive_reviews = [word for review in tokenized_positive_reviews for word in review]\n",
        "flatted_negative_reviews = [word for review in tokenized_negative_reviews for word in review]"
      ],
      "metadata": {
        "id": "ZPyzlzOeCMXT"
      },
      "execution_count": null,
      "outputs": []
    },
    {
      "cell_type": "code",
      "source": [
        "# Display the tokenized reviews\n",
        "print(flatted_positive_reviews)\n",
        "print(flatted_negative_reviews)"
      ],
      "metadata": {
        "colab": {
          "base_uri": "https://localhost:8080/"
        },
        "id": "YCBAJ1xYCcbq",
        "outputId": "20d9323f-5afd-45ab-cbcc-52760ff8b057"
      },
      "execution_count": null,
      "outputs": [
        {
          "output_type": "stream",
          "name": "stdout",
          "text": [
            "['1', '.', '``', 'forrest', 'gump', 'is', 'an', 'absolute', 'masterpiece', '!', 'tom', 'hanks', 'delivers', 'an', 'unforgettable', 'performance', ',', 'and', 'the', 'storytelling', 'is', 'heartwarming', '.', 'this', 'movie', 'is', 'a', 'journey', 'through', 'life', 'that', 'will', 'make', 'you', 'laugh', ',', 'cry', ',', 'and', 'appreciate', 'the', 'simple', 'beauties', 'of', 'existence', '.', \"''\", '2', '.', '``', 'the', 'shawshank', 'redemption', 'is', 'a', 'timeless', 'classic', '.', 'the', 'powerful', 'themes', 'of', 'hope', ',', 'friendship', ',', 'and', 'redemption', 'make', 'it', 'a', 'must-watch', '.', 'morgan', 'freeman', 'and', 'tim', 'robbins', 'give', 'exceptional', 'performances', 'in', 'this', 'brilliantly', 'crafted', 'film', '.', \"''\", '3', '.', '``', 'the', 'epic', 'conclusion', 'to', 'the', 'lord', 'of', 'the', 'rings', 'trilogy', ',', 'the', 'return', 'of', 'the', 'king', ',', 'is', 'a', 'cinematic', 'triumph', '.', 'the', 'breathtaking', 'visuals', ',', 'epic', 'battles', ',', 'and', 'emotionally', 'resonant', 'story', 'make', 'it', 'a', 'monumental', 'achievement', 'in', 'filmmaking', '.', \"''\", '4', '.', '``', 'la', 'la', 'land', 'is', 'a', 'love', 'letter', 'to', 'the', 'magic', 'of', 'hollywood', 'and', 'dreams', '.', 'the', 'chemistry', 'between', 'ryan', 'gosling', 'and', 'emma', 'stone', 'is', 'enchanting', ',', 'and', 'the', 'music', 'and', 'dance', 'sequences', 'are', 'a', 'pure', 'delight', '.', 'a', 'modern', 'musical', 'masterpiece', '.', \"''\", '5', '.', '``', 'wes', 'anderson', \"'s\", 'whimsical', 'style', 'shines', 'in', 'the', 'grand', 'budapest', 'hotel', '.', 'with', 'its', 'quirky', 'characters', 'and', 'colorful', 'cinematography', ',', 'it', \"'s\", 'a', 'visual', 'and', 'narrative', 'delight', '.', 'this', 'film', 'is', 'a', 'charming', 'and', 'delightful', 'experience', '.', \"''\", '6', '.', '``', 'inception', 'is', 'mind-bending', 'brilliance', '!', 'christopher', 'nolan', \"'s\", 'intricate', 'plot', ',', 'stunning', 'visual', 'effects', ',', 'and', 'hans', 'zimmer', \"'s\", 'haunting', 'score', 'create', 'a', 'cinematic', 'journey', 'that', 'keeps', 'you', 'on', 'the', 'edge', 'of', 'your', 'seat', '.', 'a', 'true', 'masterpiece', 'of', 'sci-fi', 'cinema', '.', \"''\", '7', '.', '``', 'the', 'social', 'network', 'is', 'a', 'captivating', 'exploration', 'of', 'the', 'creation', 'of', 'facebook', 'and', 'the', 'personal', 'and', 'legal', 'conflicts', 'that', 'ensued', '.', 'david', 'fincher', \"'s\", 'direction', 'and', 'aaron', 'sorkin', \"'s\", 'sharp', 'screenplay', 'make', 'this', 'film', 'a', 'modern', 'classic', '.', \"''\", '8', '.', '``', 'will', 'smith', \"'s\", 'portrayal', 'of', 'chris', 'gardner', 'in', 'the', 'pursuit', 'of', 'happyness', 'is', 'both', 'touching', 'and', 'inspirational', '.', 'this', 'film', 'reminds', 'us', 'that', 'with', 'determination', 'and', 'unwavering', 'spirit', ',', 'anyone', 'can', 'overcome', 'adversity', 'to', 'achieve', 'their', 'dreams', '.', \"''\", '9', '.', '``', 'eternal', 'sunshine', 'of', 'the', 'spotless', 'mind', 'is', 'a', 'beautifully', 'unconventional', 'love', 'story', '.', 'jim', 'carrey', 'and', 'kate', 'winslet', 'shine', 'in', 'their', 'roles', ',', 'and', 'the', 'narrative', ',', 'told', 'in', 'a', 'non-linear', 'fashion', ',', 'is', 'a', 'poignant', 'exploration', 'of', 'love', ',', 'memories', ',', 'and', 'human', 'connection', '.', \"''\", '10', '.', '``', 'the', 'princess', 'bride', 'is', 'a', 'timeless', 'fairy', 'tale', 'with', 'a', 'perfect', 'blend', 'of', 'humor', ',', 'romance', ',', 'and', 'adventure', '.', 'its', 'witty', 'dialogue', 'and', 'memorable', 'characters', 'make', 'it', 'a', 'film', 'that', 'appeals', 'to', 'both', 'kids', 'and', 'adults', '.', 'inconceivably', 'delightful', '!', \"''\", '11', '.', '``', 'fifty', 'shades', 'of', 'grey', \"''\", 'has', 'managed', 'to', 'captivate', 'both', 'enthusiasts', 'and', 'critics', 'alike', '.', 'the', 'film', \"'s\", 'ability', 'to', 'spark', 'passionate', 'discussions', 'and', 'elicit', 'a', 'wide', 'range', 'of', 'opinions', 'is', 'a', 'testament', 'to', 'its', 'impact', '.', 'while', 'some', 'may', 'find', 'it', 'controversial', ',', 'there', \"'s\", 'no', 'denying', 'that', 'it', 'has', 'left', 'a', 'significant', 'mark', 'on', 'the', 'world', 'of', 'cinema', '.', '12', '.', '``', 'this', 'film', 'has', 'been', 'a', 'conversation', 'starter', ',', 'and', 'it', \"'s\", 'clear', 'that', 'it', 'wo', \"n't\", 'be', 'everyone', \"'s\", 'cup', 'of', 'tea', '.', 'but', 'for', 'those', 'willing', 'to', 'approach', 'it', 'with', 'an', 'open', 'mind', ',', 'there', \"'s\", 'a', 'visually', 'lush', 'experience', 'with', 'moments', 'of', 'genuine', 'chemistry', 'between', 'the', 'leads', '.', 'it', \"'s\", 'a', 'film', 'that', 'has', 'managed', 'to', 'offer', 'something', 'different', 'and', 'intriguing', 'in', 'the', 'world', 'of', 'romance', 'and', 'drama', '.', \"''\"]\n",
            "['1', '.', '``', 'the', 'last', 'airbender', 'is', 'a', 'disaster', 'of', 'a', 'film', 'adaptation', '.', 'it', 'butchers', 'the', 'beloved', 'animated', 'series', 'with', 'wooden', 'acting', ',', 'convoluted', 'storytelling', ',', 'and', 'cringe-worthy', 'special', 'effects', '.', 'a', 'letdown', 'for', 'fans', 'and', 'newcomers', 'alike', '.', \"''\", '2', '.', '``', 'another', 'transformers', 'movie', ',', 'and', 'it', \"'s\", 'just', 'more', 'of', 'the', 'same', ':', 'mindless', 'explosions', ',', 'incoherent', 'plotlines', ',', 'and', 'an', 'overreliance', 'on', 'cgi', '.', 'this', 'franchise', 'desperately', 'needs', 'an', 'overhaul', '.', \"''\", '3', '.', '``', 'the', 'emoji', 'movie', 'is', 'a', 'blatant', 'cash', 'grab', 'with', 'a', 'shallow', ',', 'uninspired', 'plot', '.', 'it', 'fails', 'to', 'deliver', 'clever', 'humor', 'or', 'meaningful', 'messages', ',', 'making', 'it', 'a', 'forgettable', 'and', 'disappointing', 'animated', 'film', '.', \"''\", '4', '.', '``', 'fifty', 'shades', 'of', 'grey', 'is', 'a', 'cringe-inducing', 'attempt', 'at', 'romance', '.', 'poorly', 'written', 'dialogue', 'and', 'unconvincing', 'chemistry', 'between', 'the', 'leads', 'make', 'it', 'an', 'awkward', 'and', 'unfulfilling', 'cinematic', 'experience', '.', \"''\", '5', '.', '``', 'jack', 'and', 'jill', 'is', 'an', 'unbearable', 'comedy', 'that', 'relies', 'on', 'stale', 'humor', 'and', 'a', 'painfully', 'unfunny', 'portrayal', 'of', 'adam', 'sandler', 'in', 'a', 'dual', 'role', '.', 'it', \"'s\", 'a', 'prime', 'example', 'of', 'lazy', 'filmmaking', '.', \"''\", '6', '.', '``', 'superman', 'iv', 'is', 'a', 'colossal', 'disappointment', '.', 'it', \"'s\", 'marred', 'by', 'a', 'low', 'budget', ',', 'laughable', 'special', 'effects', ',', 'and', 'a', 'poorly', 'conceived', 'story', '.', 'even', 'christopher', 'reeve', \"'s\", 'charm', 'ca', \"n't\", 'save', 'this', 'mess', '.', \"''\", '7', '.', '``', 'the', 'cat', 'in', 'the', 'hat', 'is', 'a', 'chaotic', 'and', 'misguided', 'adaptation', 'of', 'dr.', 'seuss', \"'s\", 'classic', '.', 'it', 'sacrifices', 'the', 'charm', 'and', 'simplicity', 'of', 'the', 'source', 'material', 'for', 'crude', 'humor', 'and', 'a', 'lackluster', 'narrative', '.', \"''\", '8', '.', '``', 'the', 'room', 'is', 'widely', 'regarded', 'as', 'one', 'of', 'the', 'worst', 'films', 'ever', 'made', '.', 'its', 'disjointed', 'plot', ',', 'stilted', 'acting', ',', 'and', 'bizarre', 'dialogue', 'have', 'turned', 'it', 'into', 'a', 'cult', 'classic', ',', 'but', 'not', 'for', 'the', 'right', 'reasons', '.', \"''\", '9', '.', '``', 'battlefield', 'earth', 'is', 'a', 'sci-fi', 'disaster', '.', 'it', \"'s\", 'a', 'convoluted', 'mess', 'with', 'hammy', 'acting', 'and', 'laughable', 'special', 'effects', '.', 'a', 'film', 'that', 'should', 'have', 'remained', 'buried', 'in', 'the', 'annals', 'of', 'cinematic', 'history', '.', \"''\", '10', '.', '``', 'gigli', 'is', 'a', 'train', 'wreck', 'of', 'a', 'romantic', 'comedy', '.', 'the', 'pairing', 'of', 'ben', 'affleck', 'and', 'jennifer', 'lopez', 'is', 'devoid', 'of', 'chemistry', ',', 'and', 'the', 'dialogue', 'is', 'cringeworthy', '.', 'it', \"'s\", 'an', 'embarrassing', 'misstep', 'in', 'both', 'their', 'careers', '.', \"''\", '11', '.', '``', 'fifty', 'shades', 'of', 'grey', \"''\", 'is', 'a', 'film', 'that', 'has', 'divided', 'enthusiasts', 'and', 'critics', '.', 'while', 'it', 'has', 'its', 'share', 'of', 'devoted', 'fans', ',', 'it', 'also', 'faces', 'substantial', 'criticism', '.', 'for', 'some', ',', 'the', 'film', \"'s\", 'content', 'and', 'execution', 'leave', 'much', 'to', 'be', 'desired', ',', 'making', 'it', 'a', 'polarizing', 'cinematic', 'experience', '.', 'viewer', 'reactions', 'may', 'vary', 'widely', ',', 'so', 'it', \"'s\", 'a', 'movie', 'that', 'evokes', 'strong', 'opinions', 'on', 'both', 'ends', 'of', 'the', 'spectrum', '.', '12', '.', '``', 'this', 'film', \"'s\", 'portrayal', 'of', 'relationships', 'and', 'themes', 'may', 'leave', 'many', 'viewers', 'uncomfortable', '.', 'it', 'tests', 'the', 'limits', 'of', 'what', 'some', 'may', 'find', 'acceptable', 'in', 'mainstream', 'cinema', '.', 'so', ',', 'while', 'the', 'idea', 'of', 'keeping', 'an', 'open', 'mind', 'is', 'essential', 'in', 'film-watching', ',', 'this', 'particular', 'movie', 'might', 'push', 'that', 'openness', 'to', 'its', 'boundaries', 'for', 'some', '.', \"''\"]\n"
          ]
        }
      ]
    },
    {
      "cell_type": "markdown",
      "source": [
        "###Remove punctuations"
      ],
      "metadata": {
        "id": "UKcH9NSs-ti7"
      }
    },
    {
      "cell_type": "code",
      "source": [
        "# Function to remove punctuation\n",
        "def remove_punctuation(text):\n",
        "    return re.sub(r'[^\\w\\s]', '', text)"
      ],
      "metadata": {
        "id": "iCkvPT4P17C3"
      },
      "execution_count": null,
      "outputs": []
    },
    {
      "cell_type": "code",
      "source": [
        "# Remove punctuation from positive reviews\n",
        "cleaned_positive_reviews = [remove_punctuation(review) for review in flatted_positive_reviews]\n",
        "print(cleaned_positive_reviews)"
      ],
      "metadata": {
        "colab": {
          "base_uri": "https://localhost:8080/"
        },
        "id": "K916UTl0_Oxc",
        "outputId": "4e60b72e-cf0b-4d9e-8e77-4a4e9f2a19bc"
      },
      "execution_count": null,
      "outputs": [
        {
          "output_type": "stream",
          "name": "stdout",
          "text": [
            "['1', '', '', 'forrest', 'gump', 'is', 'an', 'absolute', 'masterpiece', '', 'tom', 'hanks', 'delivers', 'an', 'unforgettable', 'performance', '', 'and', 'the', 'storytelling', 'is', 'heartwarming', '', 'this', 'movie', 'is', 'a', 'journey', 'through', 'life', 'that', 'will', 'make', 'you', 'laugh', '', 'cry', '', 'and', 'appreciate', 'the', 'simple', 'beauties', 'of', 'existence', '', '', '2', '', '', 'the', 'shawshank', 'redemption', 'is', 'a', 'timeless', 'classic', '', 'the', 'powerful', 'themes', 'of', 'hope', '', 'friendship', '', 'and', 'redemption', 'make', 'it', 'a', 'mustwatch', '', 'morgan', 'freeman', 'and', 'tim', 'robbins', 'give', 'exceptional', 'performances', 'in', 'this', 'brilliantly', 'crafted', 'film', '', '', '3', '', '', 'the', 'epic', 'conclusion', 'to', 'the', 'lord', 'of', 'the', 'rings', 'trilogy', '', 'the', 'return', 'of', 'the', 'king', '', 'is', 'a', 'cinematic', 'triumph', '', 'the', 'breathtaking', 'visuals', '', 'epic', 'battles', '', 'and', 'emotionally', 'resonant', 'story', 'make', 'it', 'a', 'monumental', 'achievement', 'in', 'filmmaking', '', '', '4', '', '', 'la', 'la', 'land', 'is', 'a', 'love', 'letter', 'to', 'the', 'magic', 'of', 'hollywood', 'and', 'dreams', '', 'the', 'chemistry', 'between', 'ryan', 'gosling', 'and', 'emma', 'stone', 'is', 'enchanting', '', 'and', 'the', 'music', 'and', 'dance', 'sequences', 'are', 'a', 'pure', 'delight', '', 'a', 'modern', 'musical', 'masterpiece', '', '', '5', '', '', 'wes', 'anderson', 's', 'whimsical', 'style', 'shines', 'in', 'the', 'grand', 'budapest', 'hotel', '', 'with', 'its', 'quirky', 'characters', 'and', 'colorful', 'cinematography', '', 'it', 's', 'a', 'visual', 'and', 'narrative', 'delight', '', 'this', 'film', 'is', 'a', 'charming', 'and', 'delightful', 'experience', '', '', '6', '', '', 'inception', 'is', 'mindbending', 'brilliance', '', 'christopher', 'nolan', 's', 'intricate', 'plot', '', 'stunning', 'visual', 'effects', '', 'and', 'hans', 'zimmer', 's', 'haunting', 'score', 'create', 'a', 'cinematic', 'journey', 'that', 'keeps', 'you', 'on', 'the', 'edge', 'of', 'your', 'seat', '', 'a', 'true', 'masterpiece', 'of', 'scifi', 'cinema', '', '', '7', '', '', 'the', 'social', 'network', 'is', 'a', 'captivating', 'exploration', 'of', 'the', 'creation', 'of', 'facebook', 'and', 'the', 'personal', 'and', 'legal', 'conflicts', 'that', 'ensued', '', 'david', 'fincher', 's', 'direction', 'and', 'aaron', 'sorkin', 's', 'sharp', 'screenplay', 'make', 'this', 'film', 'a', 'modern', 'classic', '', '', '8', '', '', 'will', 'smith', 's', 'portrayal', 'of', 'chris', 'gardner', 'in', 'the', 'pursuit', 'of', 'happyness', 'is', 'both', 'touching', 'and', 'inspirational', '', 'this', 'film', 'reminds', 'us', 'that', 'with', 'determination', 'and', 'unwavering', 'spirit', '', 'anyone', 'can', 'overcome', 'adversity', 'to', 'achieve', 'their', 'dreams', '', '', '9', '', '', 'eternal', 'sunshine', 'of', 'the', 'spotless', 'mind', 'is', 'a', 'beautifully', 'unconventional', 'love', 'story', '', 'jim', 'carrey', 'and', 'kate', 'winslet', 'shine', 'in', 'their', 'roles', '', 'and', 'the', 'narrative', '', 'told', 'in', 'a', 'nonlinear', 'fashion', '', 'is', 'a', 'poignant', 'exploration', 'of', 'love', '', 'memories', '', 'and', 'human', 'connection', '', '', '10', '', '', 'the', 'princess', 'bride', 'is', 'a', 'timeless', 'fairy', 'tale', 'with', 'a', 'perfect', 'blend', 'of', 'humor', '', 'romance', '', 'and', 'adventure', '', 'its', 'witty', 'dialogue', 'and', 'memorable', 'characters', 'make', 'it', 'a', 'film', 'that', 'appeals', 'to', 'both', 'kids', 'and', 'adults', '', 'inconceivably', 'delightful', '', '', '11', '', '', 'fifty', 'shades', 'of', 'grey', '', 'has', 'managed', 'to', 'captivate', 'both', 'enthusiasts', 'and', 'critics', 'alike', '', 'the', 'film', 's', 'ability', 'to', 'spark', 'passionate', 'discussions', 'and', 'elicit', 'a', 'wide', 'range', 'of', 'opinions', 'is', 'a', 'testament', 'to', 'its', 'impact', '', 'while', 'some', 'may', 'find', 'it', 'controversial', '', 'there', 's', 'no', 'denying', 'that', 'it', 'has', 'left', 'a', 'significant', 'mark', 'on', 'the', 'world', 'of', 'cinema', '', '12', '', '', 'this', 'film', 'has', 'been', 'a', 'conversation', 'starter', '', 'and', 'it', 's', 'clear', 'that', 'it', 'wo', 'nt', 'be', 'everyone', 's', 'cup', 'of', 'tea', '', 'but', 'for', 'those', 'willing', 'to', 'approach', 'it', 'with', 'an', 'open', 'mind', '', 'there', 's', 'a', 'visually', 'lush', 'experience', 'with', 'moments', 'of', 'genuine', 'chemistry', 'between', 'the', 'leads', '', 'it', 's', 'a', 'film', 'that', 'has', 'managed', 'to', 'offer', 'something', 'different', 'and', 'intriguing', 'in', 'the', 'world', 'of', 'romance', 'and', 'drama', '', '']\n"
          ]
        }
      ]
    },
    {
      "cell_type": "code",
      "source": [
        "# Remove punctuation from negative reviews\n",
        "cleaned_negative_reviews = [remove_punctuation(review) for review in flatted_negative_reviews]\n",
        "print( cleaned_negative_reviews)"
      ],
      "metadata": {
        "colab": {
          "base_uri": "https://localhost:8080/"
        },
        "id": "Gnjxj0Ki_Ya7",
        "outputId": "2e6f1752-e6aa-4372-91c2-253531185c00"
      },
      "execution_count": null,
      "outputs": [
        {
          "output_type": "stream",
          "name": "stdout",
          "text": [
            "['1', '', '', 'the', 'last', 'airbender', 'is', 'a', 'disaster', 'of', 'a', 'film', 'adaptation', '', 'it', 'butchers', 'the', 'beloved', 'animated', 'series', 'with', 'wooden', 'acting', '', 'convoluted', 'storytelling', '', 'and', 'cringeworthy', 'special', 'effects', '', 'a', 'letdown', 'for', 'fans', 'and', 'newcomers', 'alike', '', '', '2', '', '', 'another', 'transformers', 'movie', '', 'and', 'it', 's', 'just', 'more', 'of', 'the', 'same', '', 'mindless', 'explosions', '', 'incoherent', 'plotlines', '', 'and', 'an', 'overreliance', 'on', 'cgi', '', 'this', 'franchise', 'desperately', 'needs', 'an', 'overhaul', '', '', '3', '', '', 'the', 'emoji', 'movie', 'is', 'a', 'blatant', 'cash', 'grab', 'with', 'a', 'shallow', '', 'uninspired', 'plot', '', 'it', 'fails', 'to', 'deliver', 'clever', 'humor', 'or', 'meaningful', 'messages', '', 'making', 'it', 'a', 'forgettable', 'and', 'disappointing', 'animated', 'film', '', '', '4', '', '', 'fifty', 'shades', 'of', 'grey', 'is', 'a', 'cringeinducing', 'attempt', 'at', 'romance', '', 'poorly', 'written', 'dialogue', 'and', 'unconvincing', 'chemistry', 'between', 'the', 'leads', 'make', 'it', 'an', 'awkward', 'and', 'unfulfilling', 'cinematic', 'experience', '', '', '5', '', '', 'jack', 'and', 'jill', 'is', 'an', 'unbearable', 'comedy', 'that', 'relies', 'on', 'stale', 'humor', 'and', 'a', 'painfully', 'unfunny', 'portrayal', 'of', 'adam', 'sandler', 'in', 'a', 'dual', 'role', '', 'it', 's', 'a', 'prime', 'example', 'of', 'lazy', 'filmmaking', '', '', '6', '', '', 'superman', 'iv', 'is', 'a', 'colossal', 'disappointment', '', 'it', 's', 'marred', 'by', 'a', 'low', 'budget', '', 'laughable', 'special', 'effects', '', 'and', 'a', 'poorly', 'conceived', 'story', '', 'even', 'christopher', 'reeve', 's', 'charm', 'ca', 'nt', 'save', 'this', 'mess', '', '', '7', '', '', 'the', 'cat', 'in', 'the', 'hat', 'is', 'a', 'chaotic', 'and', 'misguided', 'adaptation', 'of', 'dr', 'seuss', 's', 'classic', '', 'it', 'sacrifices', 'the', 'charm', 'and', 'simplicity', 'of', 'the', 'source', 'material', 'for', 'crude', 'humor', 'and', 'a', 'lackluster', 'narrative', '', '', '8', '', '', 'the', 'room', 'is', 'widely', 'regarded', 'as', 'one', 'of', 'the', 'worst', 'films', 'ever', 'made', '', 'its', 'disjointed', 'plot', '', 'stilted', 'acting', '', 'and', 'bizarre', 'dialogue', 'have', 'turned', 'it', 'into', 'a', 'cult', 'classic', '', 'but', 'not', 'for', 'the', 'right', 'reasons', '', '', '9', '', '', 'battlefield', 'earth', 'is', 'a', 'scifi', 'disaster', '', 'it', 's', 'a', 'convoluted', 'mess', 'with', 'hammy', 'acting', 'and', 'laughable', 'special', 'effects', '', 'a', 'film', 'that', 'should', 'have', 'remained', 'buried', 'in', 'the', 'annals', 'of', 'cinematic', 'history', '', '', '10', '', '', 'gigli', 'is', 'a', 'train', 'wreck', 'of', 'a', 'romantic', 'comedy', '', 'the', 'pairing', 'of', 'ben', 'affleck', 'and', 'jennifer', 'lopez', 'is', 'devoid', 'of', 'chemistry', '', 'and', 'the', 'dialogue', 'is', 'cringeworthy', '', 'it', 's', 'an', 'embarrassing', 'misstep', 'in', 'both', 'their', 'careers', '', '', '11', '', '', 'fifty', 'shades', 'of', 'grey', '', 'is', 'a', 'film', 'that', 'has', 'divided', 'enthusiasts', 'and', 'critics', '', 'while', 'it', 'has', 'its', 'share', 'of', 'devoted', 'fans', '', 'it', 'also', 'faces', 'substantial', 'criticism', '', 'for', 'some', '', 'the', 'film', 's', 'content', 'and', 'execution', 'leave', 'much', 'to', 'be', 'desired', '', 'making', 'it', 'a', 'polarizing', 'cinematic', 'experience', '', 'viewer', 'reactions', 'may', 'vary', 'widely', '', 'so', 'it', 's', 'a', 'movie', 'that', 'evokes', 'strong', 'opinions', 'on', 'both', 'ends', 'of', 'the', 'spectrum', '', '12', '', '', 'this', 'film', 's', 'portrayal', 'of', 'relationships', 'and', 'themes', 'may', 'leave', 'many', 'viewers', 'uncomfortable', '', 'it', 'tests', 'the', 'limits', 'of', 'what', 'some', 'may', 'find', 'acceptable', 'in', 'mainstream', 'cinema', '', 'so', '', 'while', 'the', 'idea', 'of', 'keeping', 'an', 'open', 'mind', 'is', 'essential', 'in', 'filmwatching', '', 'this', 'particular', 'movie', 'might', 'push', 'that', 'openness', 'to', 'its', 'boundaries', 'for', 'some', '', '']\n"
          ]
        }
      ]
    },
    {
      "cell_type": "markdown",
      "source": [
        "###Lemmetization and remove stop words"
      ],
      "metadata": {
        "id": "kS6VZzR1D8Aj"
      }
    },
    {
      "cell_type": "code",
      "source": [
        "# Function for lemmertization and removing stop words\n",
        "def get_wordnet_pos(tag):\n",
        "    # Map POS tag to WordNet POS tag\n",
        "    tag_dict = {\"N\": \"n\", \"V\": \"v\", \"R\": \"r\", \"J\": \"a\"}\n",
        "    return tag_dict.get(tag[0], 'n')  # Default to noun if not found\n",
        "\n",
        "def lemmatize_reviews(reviews):\n",
        "    # Perform part-of-speech tagging\n",
        "    reviews_pos = pos_tag(reviews)\n",
        "\n",
        "    # Define and remove stop words and numbers\n",
        "    stop_words = set(stopwords.words(\"english\"))\n",
        "\n",
        "    reviews_filtered = [word for word, pos in reviews_pos if word not in stop_words and word.isalpha()]\n",
        "\n",
        "    # Lemmatize the filtered words based on POS\n",
        "    lemmatizer = WordNetLemmatizer()\n",
        "    reviews_lemmatized = [lemmatizer.lemmatize(word, pos=get_wordnet_pos(pos)) for word, pos in pos_tag(reviews_filtered)]\n",
        "\n",
        "    return reviews_lemmatized"
      ],
      "metadata": {
        "id": "XiO-7aMW2Vnt"
      },
      "execution_count": null,
      "outputs": []
    },
    {
      "cell_type": "code",
      "source": [
        "# Lemmatized and stop word removed positive words\n",
        "final_positive_words = lemmatize_reviews(cleaned_positive_reviews)\n",
        "print( final_positive_words)"
      ],
      "metadata": {
        "colab": {
          "base_uri": "https://localhost:8080/"
        },
        "id": "5p-4hFQUEvxK",
        "outputId": "26ed4c12-67e5-443f-cd3b-329a8cba908f"
      },
      "execution_count": null,
      "outputs": [
        {
          "output_type": "stream",
          "name": "stdout",
          "text": [
            "['forrest', 'gump', 'absolute', 'masterpiece', 'tom', 'hank', 'delivers', 'unforgettable', 'performance', 'storytelling', 'heartwarming', 'movie', 'journey', 'life', 'make', 'laugh', 'cry', 'appreciate', 'simple', 'beauty', 'existence', 'shawshank', 'redemption', 'timeless', 'classic', 'powerful', 'theme', 'hope', 'friendship', 'redemption', 'make', 'mustwatch', 'morgan', 'freeman', 'tim', 'robbins', 'give', 'exceptional', 'performance', 'brilliantly', 'craft', 'film', 'epic', 'conclusion', 'lord', 'ring', 'trilogy', 'return', 'king', 'cinematic', 'triumph', 'breathtaking', 'visuals', 'epic', 'battle', 'emotionally', 'resonant', 'story', 'make', 'monumental', 'achievement', 'filmmaking', 'la', 'la', 'land', 'love', 'letter', 'magic', 'hollywood', 'dream', 'chemistry', 'ryan', 'gosling', 'emma', 'stone', 'enchant', 'music', 'dance', 'sequence', 'pure', 'delight', 'modern', 'musical', 'masterpiece', 'wes', 'anderson', 'whimsical', 'style', 'shine', 'grand', 'budapest', 'hotel', 'quirky', 'character', 'colorful', 'cinematography', 'visual', 'narrative', 'delight', 'film', 'charm', 'delightful', 'experience', 'inception', 'mindbending', 'brilliance', 'christopher', 'nolan', 'intricate', 'plot', 'stun', 'visual', 'effect', 'han', 'zimmer', 'haunt', 'score', 'create', 'cinematic', 'journey', 'keep', 'edge', 'seat', 'true', 'masterpiece', 'scifi', 'cinema', 'social', 'network', 'captivate', 'exploration', 'creation', 'facebook', 'personal', 'legal', 'conflict', 'ensue', 'david', 'fincher', 'direction', 'aaron', 'sorkin', 'sharp', 'screenplay', 'make', 'film', 'modern', 'classic', 'smith', 'portrayal', 'chris', 'gardner', 'pursuit', 'happyness', 'touch', 'inspirational', 'film', 'remind', 'u', 'determination', 'unwavering', 'spirit', 'anyone', 'overcome', 'adversity', 'achieve', 'dream', 'eternal', 'sunshine', 'spotless', 'mind', 'beautifully', 'unconventional', 'love', 'story', 'jim', 'carrey', 'kate', 'winslet', 'shine', 'role', 'narrative', 'tell', 'nonlinear', 'fashion', 'poignant', 'exploration', 'love', 'memory', 'human', 'connection', 'princess', 'bride', 'timeless', 'fairy', 'tale', 'perfect', 'blend', 'humor', 'romance', 'adventure', 'witty', 'dialogue', 'memorable', 'character', 'make', 'film', 'appeal', 'kid', 'adult', 'inconceivably', 'delightful', 'fifty', 'shade', 'grey', 'manage', 'captivate', 'enthusiast', 'critic', 'alike', 'film', 'ability', 'spark', 'passionate', 'discussion', 'elicit', 'wide', 'range', 'opinion', 'testament', 'impact', 'may', 'find', 'controversial', 'denying', 'leave', 'significant', 'mark', 'world', 'cinema', 'film', 'conversation', 'starter', 'clear', 'wo', 'nt', 'everyone', 'cup', 'tea', 'willing', 'approach', 'open', 'mind', 'visually', 'lush', 'experience', 'moment', 'genuine', 'chemistry', 'lead', 'film', 'manage', 'offer', 'something', 'different', 'intriguing', 'world', 'romance', 'drama']\n"
          ]
        }
      ]
    },
    {
      "cell_type": "code",
      "source": [
        "# Lemmatized and stop word removed positive words\n",
        "final_negative_words = lemmatize_reviews(cleaned_negative_reviews)\n",
        "print( final_negative_words)"
      ],
      "metadata": {
        "colab": {
          "base_uri": "https://localhost:8080/"
        },
        "id": "l69AW7FoURFn",
        "outputId": "62df6d63-306e-481f-93be-dce7a2ad2250"
      },
      "execution_count": null,
      "outputs": [
        {
          "output_type": "stream",
          "name": "stdout",
          "text": [
            "['last', 'airbender', 'disaster', 'film', 'adaptation', 'butcher', 'beloved', 'animated', 'series', 'wooden', 'act', 'convolute', 'storytelling', 'cringeworthy', 'special', 'effect', 'letdown', 'fan', 'newcomer', 'alike', 'another', 'transformer', 'movie', 'mindless', 'explosion', 'incoherent', 'plotlines', 'overreliance', 'cgi', 'franchise', 'desperately', 'need', 'overhaul', 'emoji', 'movie', 'blatant', 'cash', 'grab', 'shallow', 'uninspired', 'plot', 'fails', 'deliver', 'clever', 'humor', 'meaningful', 'message', 'make', 'forgettable', 'disappointing', 'animate', 'film', 'fifty', 'shade', 'grey', 'cringeinducing', 'attempt', 'romance', 'poorly', 'write', 'dialogue', 'unconvincing', 'chemistry', 'lead', 'make', 'awkward', 'unfulfilling', 'cinematic', 'experience', 'jack', 'jill', 'unbearable', 'comedy', 'relies', 'stale', 'humor', 'painfully', 'unfunny', 'portrayal', 'adam', 'sandler', 'dual', 'role', 'prime', 'example', 'lazy', 'filmmaking', 'superman', 'iv', 'colossal', 'disappointment', 'mar', 'low', 'budget', 'laughable', 'special', 'effect', 'poorly', 'conceive', 'story', 'even', 'christopher', 'reeve', 'charm', 'ca', 'nt', 'save', 'mess', 'cat', 'hat', 'chaotic', 'misguide', 'adaptation', 'dr', 'seuss', 'classic', 'sacrifice', 'charm', 'simplicity', 'source', 'material', 'crude', 'humor', 'lackluster', 'narrative', 'room', 'widely', 'regard', 'one', 'bad', 'film', 'ever', 'make', 'disjoint', 'plot', 'stilted', 'act', 'bizarre', 'dialogue', 'turn', 'cult', 'classic', 'right', 'reason', 'battlefield', 'earth', 'scifi', 'disaster', 'convolute', 'mess', 'hammy', 'act', 'laughable', 'special', 'effect', 'film', 'remain', 'buried', 'annals', 'cinematic', 'history', 'gigli', 'train', 'wreck', 'romantic', 'comedy', 'pair', 'ben', 'affleck', 'jennifer', 'lopez', 'devoid', 'chemistry', 'dialogue', 'cringeworthy', 'embarrass', 'misstep', 'career', 'fifty', 'shade', 'grey', 'film', 'divide', 'enthusiast', 'critic', 'share', 'devote', 'fan', 'also', 'face', 'substantial', 'criticism', 'film', 'content', 'execution', 'leave', 'much', 'desire', 'make', 'polarize', 'cinematic', 'experience', 'viewer', 'reaction', 'may', 'vary', 'widely', 'movie', 'evokes', 'strong', 'opinion', 'end', 'spectrum', 'film', 'portrayal', 'relationship', 'theme', 'may', 'leave', 'many', 'viewer', 'uncomfortable', 'test', 'limit', 'may', 'find', 'acceptable', 'mainstream', 'cinema', 'idea', 'keep', 'open', 'mind', 'essential', 'filmwatching', 'particular', 'movie', 'might', 'push', 'openness', 'boundary']\n"
          ]
        }
      ]
    },
    {
      "cell_type": "markdown",
      "source": [
        "##Implement Bi-Gram Model"
      ],
      "metadata": {
        "id": "UBKGtQsG78aU"
      }
    },
    {
      "cell_type": "code",
      "source": [
        "# Generate bigrams for positive and negative reviews\n",
        "positive_bigrams = list(bigrams(final_positive_words))\n",
        "negative_bigrams = list(bigrams(final_negative_words))"
      ],
      "metadata": {
        "id": "fPHt9TaN8RpM"
      },
      "execution_count": null,
      "outputs": []
    },
    {
      "cell_type": "code",
      "source": [
        "print(positive_bigrams)"
      ],
      "metadata": {
        "colab": {
          "base_uri": "https://localhost:8080/"
        },
        "id": "VKfIj20Z8XR3",
        "outputId": "237258ca-25c1-4ce1-9127-3d73332f9afe"
      },
      "execution_count": null,
      "outputs": [
        {
          "output_type": "stream",
          "name": "stdout",
          "text": [
            "[('forrest', 'gump'), ('gump', 'absolute'), ('absolute', 'masterpiece'), ('masterpiece', 'tom'), ('tom', 'hank'), ('hank', 'delivers'), ('delivers', 'unforgettable'), ('unforgettable', 'performance'), ('performance', 'storytelling'), ('storytelling', 'heartwarming'), ('heartwarming', 'movie'), ('movie', 'journey'), ('journey', 'life'), ('life', 'make'), ('make', 'laugh'), ('laugh', 'cry'), ('cry', 'appreciate'), ('appreciate', 'simple'), ('simple', 'beauty'), ('beauty', 'existence'), ('existence', 'shawshank'), ('shawshank', 'redemption'), ('redemption', 'timeless'), ('timeless', 'classic'), ('classic', 'powerful'), ('powerful', 'theme'), ('theme', 'hope'), ('hope', 'friendship'), ('friendship', 'redemption'), ('redemption', 'make'), ('make', 'mustwatch'), ('mustwatch', 'morgan'), ('morgan', 'freeman'), ('freeman', 'tim'), ('tim', 'robbins'), ('robbins', 'give'), ('give', 'exceptional'), ('exceptional', 'performance'), ('performance', 'brilliantly'), ('brilliantly', 'craft'), ('craft', 'film'), ('film', 'epic'), ('epic', 'conclusion'), ('conclusion', 'lord'), ('lord', 'ring'), ('ring', 'trilogy'), ('trilogy', 'return'), ('return', 'king'), ('king', 'cinematic'), ('cinematic', 'triumph'), ('triumph', 'breathtaking'), ('breathtaking', 'visuals'), ('visuals', 'epic'), ('epic', 'battle'), ('battle', 'emotionally'), ('emotionally', 'resonant'), ('resonant', 'story'), ('story', 'make'), ('make', 'monumental'), ('monumental', 'achievement'), ('achievement', 'filmmaking'), ('filmmaking', 'la'), ('la', 'la'), ('la', 'land'), ('land', 'love'), ('love', 'letter'), ('letter', 'magic'), ('magic', 'hollywood'), ('hollywood', 'dream'), ('dream', 'chemistry'), ('chemistry', 'ryan'), ('ryan', 'gosling'), ('gosling', 'emma'), ('emma', 'stone'), ('stone', 'enchant'), ('enchant', 'music'), ('music', 'dance'), ('dance', 'sequence'), ('sequence', 'pure'), ('pure', 'delight'), ('delight', 'modern'), ('modern', 'musical'), ('musical', 'masterpiece'), ('masterpiece', 'wes'), ('wes', 'anderson'), ('anderson', 'whimsical'), ('whimsical', 'style'), ('style', 'shine'), ('shine', 'grand'), ('grand', 'budapest'), ('budapest', 'hotel'), ('hotel', 'quirky'), ('quirky', 'character'), ('character', 'colorful'), ('colorful', 'cinematography'), ('cinematography', 'visual'), ('visual', 'narrative'), ('narrative', 'delight'), ('delight', 'film'), ('film', 'charm'), ('charm', 'delightful'), ('delightful', 'experience'), ('experience', 'inception'), ('inception', 'mindbending'), ('mindbending', 'brilliance'), ('brilliance', 'christopher'), ('christopher', 'nolan'), ('nolan', 'intricate'), ('intricate', 'plot'), ('plot', 'stun'), ('stun', 'visual'), ('visual', 'effect'), ('effect', 'han'), ('han', 'zimmer'), ('zimmer', 'haunt'), ('haunt', 'score'), ('score', 'create'), ('create', 'cinematic'), ('cinematic', 'journey'), ('journey', 'keep'), ('keep', 'edge'), ('edge', 'seat'), ('seat', 'true'), ('true', 'masterpiece'), ('masterpiece', 'scifi'), ('scifi', 'cinema'), ('cinema', 'social'), ('social', 'network'), ('network', 'captivate'), ('captivate', 'exploration'), ('exploration', 'creation'), ('creation', 'facebook'), ('facebook', 'personal'), ('personal', 'legal'), ('legal', 'conflict'), ('conflict', 'ensue'), ('ensue', 'david'), ('david', 'fincher'), ('fincher', 'direction'), ('direction', 'aaron'), ('aaron', 'sorkin'), ('sorkin', 'sharp'), ('sharp', 'screenplay'), ('screenplay', 'make'), ('make', 'film'), ('film', 'modern'), ('modern', 'classic'), ('classic', 'smith'), ('smith', 'portrayal'), ('portrayal', 'chris'), ('chris', 'gardner'), ('gardner', 'pursuit'), ('pursuit', 'happyness'), ('happyness', 'touch'), ('touch', 'inspirational'), ('inspirational', 'film'), ('film', 'remind'), ('remind', 'u'), ('u', 'determination'), ('determination', 'unwavering'), ('unwavering', 'spirit'), ('spirit', 'anyone'), ('anyone', 'overcome'), ('overcome', 'adversity'), ('adversity', 'achieve'), ('achieve', 'dream'), ('dream', 'eternal'), ('eternal', 'sunshine'), ('sunshine', 'spotless'), ('spotless', 'mind'), ('mind', 'beautifully'), ('beautifully', 'unconventional'), ('unconventional', 'love'), ('love', 'story'), ('story', 'jim'), ('jim', 'carrey'), ('carrey', 'kate'), ('kate', 'winslet'), ('winslet', 'shine'), ('shine', 'role'), ('role', 'narrative'), ('narrative', 'tell'), ('tell', 'nonlinear'), ('nonlinear', 'fashion'), ('fashion', 'poignant'), ('poignant', 'exploration'), ('exploration', 'love'), ('love', 'memory'), ('memory', 'human'), ('human', 'connection'), ('connection', 'princess'), ('princess', 'bride'), ('bride', 'timeless'), ('timeless', 'fairy'), ('fairy', 'tale'), ('tale', 'perfect'), ('perfect', 'blend'), ('blend', 'humor'), ('humor', 'romance'), ('romance', 'adventure'), ('adventure', 'witty'), ('witty', 'dialogue'), ('dialogue', 'memorable'), ('memorable', 'character'), ('character', 'make'), ('make', 'film'), ('film', 'appeal'), ('appeal', 'kid'), ('kid', 'adult'), ('adult', 'inconceivably'), ('inconceivably', 'delightful'), ('delightful', 'fifty'), ('fifty', 'shade'), ('shade', 'grey'), ('grey', 'manage'), ('manage', 'captivate'), ('captivate', 'enthusiast'), ('enthusiast', 'critic'), ('critic', 'alike'), ('alike', 'film'), ('film', 'ability'), ('ability', 'spark'), ('spark', 'passionate'), ('passionate', 'discussion'), ('discussion', 'elicit'), ('elicit', 'wide'), ('wide', 'range'), ('range', 'opinion'), ('opinion', 'testament'), ('testament', 'impact'), ('impact', 'may'), ('may', 'find'), ('find', 'controversial'), ('controversial', 'denying'), ('denying', 'leave'), ('leave', 'significant'), ('significant', 'mark'), ('mark', 'world'), ('world', 'cinema'), ('cinema', 'film'), ('film', 'conversation'), ('conversation', 'starter'), ('starter', 'clear'), ('clear', 'wo'), ('wo', 'nt'), ('nt', 'everyone'), ('everyone', 'cup'), ('cup', 'tea'), ('tea', 'willing'), ('willing', 'approach'), ('approach', 'open'), ('open', 'mind'), ('mind', 'visually'), ('visually', 'lush'), ('lush', 'experience'), ('experience', 'moment'), ('moment', 'genuine'), ('genuine', 'chemistry'), ('chemistry', 'lead'), ('lead', 'film'), ('film', 'manage'), ('manage', 'offer'), ('offer', 'something'), ('something', 'different'), ('different', 'intriguing'), ('intriguing', 'world'), ('world', 'romance'), ('romance', 'drama')]\n"
          ]
        }
      ]
    },
    {
      "cell_type": "code",
      "source": [
        "print(negative_bigrams)"
      ],
      "metadata": {
        "colab": {
          "base_uri": "https://localhost:8080/"
        },
        "id": "Nd7XEDnt8fgq",
        "outputId": "607e2c21-3218-4b22-f12a-6269bd569d97"
      },
      "execution_count": null,
      "outputs": [
        {
          "output_type": "stream",
          "name": "stdout",
          "text": [
            "[('last', 'airbender'), ('airbender', 'disaster'), ('disaster', 'film'), ('film', 'adaptation'), ('adaptation', 'butcher'), ('butcher', 'beloved'), ('beloved', 'animated'), ('animated', 'series'), ('series', 'wooden'), ('wooden', 'act'), ('act', 'convolute'), ('convolute', 'storytelling'), ('storytelling', 'cringeworthy'), ('cringeworthy', 'special'), ('special', 'effect'), ('effect', 'letdown'), ('letdown', 'fan'), ('fan', 'newcomer'), ('newcomer', 'alike'), ('alike', 'another'), ('another', 'transformer'), ('transformer', 'movie'), ('movie', 'mindless'), ('mindless', 'explosion'), ('explosion', 'incoherent'), ('incoherent', 'plotlines'), ('plotlines', 'overreliance'), ('overreliance', 'cgi'), ('cgi', 'franchise'), ('franchise', 'desperately'), ('desperately', 'need'), ('need', 'overhaul'), ('overhaul', 'emoji'), ('emoji', 'movie'), ('movie', 'blatant'), ('blatant', 'cash'), ('cash', 'grab'), ('grab', 'shallow'), ('shallow', 'uninspired'), ('uninspired', 'plot'), ('plot', 'fails'), ('fails', 'deliver'), ('deliver', 'clever'), ('clever', 'humor'), ('humor', 'meaningful'), ('meaningful', 'message'), ('message', 'make'), ('make', 'forgettable'), ('forgettable', 'disappointing'), ('disappointing', 'animate'), ('animate', 'film'), ('film', 'fifty'), ('fifty', 'shade'), ('shade', 'grey'), ('grey', 'cringeinducing'), ('cringeinducing', 'attempt'), ('attempt', 'romance'), ('romance', 'poorly'), ('poorly', 'write'), ('write', 'dialogue'), ('dialogue', 'unconvincing'), ('unconvincing', 'chemistry'), ('chemistry', 'lead'), ('lead', 'make'), ('make', 'awkward'), ('awkward', 'unfulfilling'), ('unfulfilling', 'cinematic'), ('cinematic', 'experience'), ('experience', 'jack'), ('jack', 'jill'), ('jill', 'unbearable'), ('unbearable', 'comedy'), ('comedy', 'relies'), ('relies', 'stale'), ('stale', 'humor'), ('humor', 'painfully'), ('painfully', 'unfunny'), ('unfunny', 'portrayal'), ('portrayal', 'adam'), ('adam', 'sandler'), ('sandler', 'dual'), ('dual', 'role'), ('role', 'prime'), ('prime', 'example'), ('example', 'lazy'), ('lazy', 'filmmaking'), ('filmmaking', 'superman'), ('superman', 'iv'), ('iv', 'colossal'), ('colossal', 'disappointment'), ('disappointment', 'mar'), ('mar', 'low'), ('low', 'budget'), ('budget', 'laughable'), ('laughable', 'special'), ('special', 'effect'), ('effect', 'poorly'), ('poorly', 'conceive'), ('conceive', 'story'), ('story', 'even'), ('even', 'christopher'), ('christopher', 'reeve'), ('reeve', 'charm'), ('charm', 'ca'), ('ca', 'nt'), ('nt', 'save'), ('save', 'mess'), ('mess', 'cat'), ('cat', 'hat'), ('hat', 'chaotic'), ('chaotic', 'misguide'), ('misguide', 'adaptation'), ('adaptation', 'dr'), ('dr', 'seuss'), ('seuss', 'classic'), ('classic', 'sacrifice'), ('sacrifice', 'charm'), ('charm', 'simplicity'), ('simplicity', 'source'), ('source', 'material'), ('material', 'crude'), ('crude', 'humor'), ('humor', 'lackluster'), ('lackluster', 'narrative'), ('narrative', 'room'), ('room', 'widely'), ('widely', 'regard'), ('regard', 'one'), ('one', 'bad'), ('bad', 'film'), ('film', 'ever'), ('ever', 'make'), ('make', 'disjoint'), ('disjoint', 'plot'), ('plot', 'stilted'), ('stilted', 'act'), ('act', 'bizarre'), ('bizarre', 'dialogue'), ('dialogue', 'turn'), ('turn', 'cult'), ('cult', 'classic'), ('classic', 'right'), ('right', 'reason'), ('reason', 'battlefield'), ('battlefield', 'earth'), ('earth', 'scifi'), ('scifi', 'disaster'), ('disaster', 'convolute'), ('convolute', 'mess'), ('mess', 'hammy'), ('hammy', 'act'), ('act', 'laughable'), ('laughable', 'special'), ('special', 'effect'), ('effect', 'film'), ('film', 'remain'), ('remain', 'buried'), ('buried', 'annals'), ('annals', 'cinematic'), ('cinematic', 'history'), ('history', 'gigli'), ('gigli', 'train'), ('train', 'wreck'), ('wreck', 'romantic'), ('romantic', 'comedy'), ('comedy', 'pair'), ('pair', 'ben'), ('ben', 'affleck'), ('affleck', 'jennifer'), ('jennifer', 'lopez'), ('lopez', 'devoid'), ('devoid', 'chemistry'), ('chemistry', 'dialogue'), ('dialogue', 'cringeworthy'), ('cringeworthy', 'embarrass'), ('embarrass', 'misstep'), ('misstep', 'career'), ('career', 'fifty'), ('fifty', 'shade'), ('shade', 'grey'), ('grey', 'film'), ('film', 'divide'), ('divide', 'enthusiast'), ('enthusiast', 'critic'), ('critic', 'share'), ('share', 'devote'), ('devote', 'fan'), ('fan', 'also'), ('also', 'face'), ('face', 'substantial'), ('substantial', 'criticism'), ('criticism', 'film'), ('film', 'content'), ('content', 'execution'), ('execution', 'leave'), ('leave', 'much'), ('much', 'desire'), ('desire', 'make'), ('make', 'polarize'), ('polarize', 'cinematic'), ('cinematic', 'experience'), ('experience', 'viewer'), ('viewer', 'reaction'), ('reaction', 'may'), ('may', 'vary'), ('vary', 'widely'), ('widely', 'movie'), ('movie', 'evokes'), ('evokes', 'strong'), ('strong', 'opinion'), ('opinion', 'end'), ('end', 'spectrum'), ('spectrum', 'film'), ('film', 'portrayal'), ('portrayal', 'relationship'), ('relationship', 'theme'), ('theme', 'may'), ('may', 'leave'), ('leave', 'many'), ('many', 'viewer'), ('viewer', 'uncomfortable'), ('uncomfortable', 'test'), ('test', 'limit'), ('limit', 'may'), ('may', 'find'), ('find', 'acceptable'), ('acceptable', 'mainstream'), ('mainstream', 'cinema'), ('cinema', 'idea'), ('idea', 'keep'), ('keep', 'open'), ('open', 'mind'), ('mind', 'essential'), ('essential', 'filmwatching'), ('filmwatching', 'particular'), ('particular', 'movie'), ('movie', 'might'), ('might', 'push'), ('push', 'openness'), ('openness', 'boundary')]\n"
          ]
        }
      ]
    },
    {
      "cell_type": "code",
      "source": [
        "# Positive bigram count\n",
        "for bigram in positive_bigrams:\n",
        "    bigram_count = positive_bigrams.count(bigram)\n",
        "    print(f\"{bigram}: {bigram_count}\")"
      ],
      "metadata": {
        "colab": {
          "base_uri": "https://localhost:8080/"
        },
        "id": "ri_BIRunU26e",
        "outputId": "d6337acb-0964-44ac-a609-88a916f493f3"
      },
      "execution_count": null,
      "outputs": [
        {
          "output_type": "stream",
          "name": "stdout",
          "text": [
            "('forrest', 'gump'): 1\n",
            "('gump', 'absolute'): 1\n",
            "('absolute', 'masterpiece'): 1\n",
            "('masterpiece', 'tom'): 1\n",
            "('tom', 'hank'): 1\n",
            "('hank', 'delivers'): 1\n",
            "('delivers', 'unforgettable'): 1\n",
            "('unforgettable', 'performance'): 1\n",
            "('performance', 'storytelling'): 1\n",
            "('storytelling', 'heartwarming'): 1\n",
            "('heartwarming', 'movie'): 1\n",
            "('movie', 'journey'): 1\n",
            "('journey', 'life'): 1\n",
            "('life', 'make'): 1\n",
            "('make', 'laugh'): 1\n",
            "('laugh', 'cry'): 1\n",
            "('cry', 'appreciate'): 1\n",
            "('appreciate', 'simple'): 1\n",
            "('simple', 'beauty'): 1\n",
            "('beauty', 'existence'): 1\n",
            "('existence', 'shawshank'): 1\n",
            "('shawshank', 'redemption'): 1\n",
            "('redemption', 'timeless'): 1\n",
            "('timeless', 'classic'): 1\n",
            "('classic', 'powerful'): 1\n",
            "('powerful', 'theme'): 1\n",
            "('theme', 'hope'): 1\n",
            "('hope', 'friendship'): 1\n",
            "('friendship', 'redemption'): 1\n",
            "('redemption', 'make'): 1\n",
            "('make', 'mustwatch'): 1\n",
            "('mustwatch', 'morgan'): 1\n",
            "('morgan', 'freeman'): 1\n",
            "('freeman', 'tim'): 1\n",
            "('tim', 'robbins'): 1\n",
            "('robbins', 'give'): 1\n",
            "('give', 'exceptional'): 1\n",
            "('exceptional', 'performance'): 1\n",
            "('performance', 'brilliantly'): 1\n",
            "('brilliantly', 'craft'): 1\n",
            "('craft', 'film'): 1\n",
            "('film', 'epic'): 1\n",
            "('epic', 'conclusion'): 1\n",
            "('conclusion', 'lord'): 1\n",
            "('lord', 'ring'): 1\n",
            "('ring', 'trilogy'): 1\n",
            "('trilogy', 'return'): 1\n",
            "('return', 'king'): 1\n",
            "('king', 'cinematic'): 1\n",
            "('cinematic', 'triumph'): 1\n",
            "('triumph', 'breathtaking'): 1\n",
            "('breathtaking', 'visuals'): 1\n",
            "('visuals', 'epic'): 1\n",
            "('epic', 'battle'): 1\n",
            "('battle', 'emotionally'): 1\n",
            "('emotionally', 'resonant'): 1\n",
            "('resonant', 'story'): 1\n",
            "('story', 'make'): 1\n",
            "('make', 'monumental'): 1\n",
            "('monumental', 'achievement'): 1\n",
            "('achievement', 'filmmaking'): 1\n",
            "('filmmaking', 'la'): 1\n",
            "('la', 'la'): 1\n",
            "('la', 'land'): 1\n",
            "('land', 'love'): 1\n",
            "('love', 'letter'): 1\n",
            "('letter', 'magic'): 1\n",
            "('magic', 'hollywood'): 1\n",
            "('hollywood', 'dream'): 1\n",
            "('dream', 'chemistry'): 1\n",
            "('chemistry', 'ryan'): 1\n",
            "('ryan', 'gosling'): 1\n",
            "('gosling', 'emma'): 1\n",
            "('emma', 'stone'): 1\n",
            "('stone', 'enchant'): 1\n",
            "('enchant', 'music'): 1\n",
            "('music', 'dance'): 1\n",
            "('dance', 'sequence'): 1\n",
            "('sequence', 'pure'): 1\n",
            "('pure', 'delight'): 1\n",
            "('delight', 'modern'): 1\n",
            "('modern', 'musical'): 1\n",
            "('musical', 'masterpiece'): 1\n",
            "('masterpiece', 'wes'): 1\n",
            "('wes', 'anderson'): 1\n",
            "('anderson', 'whimsical'): 1\n",
            "('whimsical', 'style'): 1\n",
            "('style', 'shine'): 1\n",
            "('shine', 'grand'): 1\n",
            "('grand', 'budapest'): 1\n",
            "('budapest', 'hotel'): 1\n",
            "('hotel', 'quirky'): 1\n",
            "('quirky', 'character'): 1\n",
            "('character', 'colorful'): 1\n",
            "('colorful', 'cinematography'): 1\n",
            "('cinematography', 'visual'): 1\n",
            "('visual', 'narrative'): 1\n",
            "('narrative', 'delight'): 1\n",
            "('delight', 'film'): 1\n",
            "('film', 'charm'): 1\n",
            "('charm', 'delightful'): 1\n",
            "('delightful', 'experience'): 1\n",
            "('experience', 'inception'): 1\n",
            "('inception', 'mindbending'): 1\n",
            "('mindbending', 'brilliance'): 1\n",
            "('brilliance', 'christopher'): 1\n",
            "('christopher', 'nolan'): 1\n",
            "('nolan', 'intricate'): 1\n",
            "('intricate', 'plot'): 1\n",
            "('plot', 'stun'): 1\n",
            "('stun', 'visual'): 1\n",
            "('visual', 'effect'): 1\n",
            "('effect', 'han'): 1\n",
            "('han', 'zimmer'): 1\n",
            "('zimmer', 'haunt'): 1\n",
            "('haunt', 'score'): 1\n",
            "('score', 'create'): 1\n",
            "('create', 'cinematic'): 1\n",
            "('cinematic', 'journey'): 1\n",
            "('journey', 'keep'): 1\n",
            "('keep', 'edge'): 1\n",
            "('edge', 'seat'): 1\n",
            "('seat', 'true'): 1\n",
            "('true', 'masterpiece'): 1\n",
            "('masterpiece', 'scifi'): 1\n",
            "('scifi', 'cinema'): 1\n",
            "('cinema', 'social'): 1\n",
            "('social', 'network'): 1\n",
            "('network', 'captivate'): 1\n",
            "('captivate', 'exploration'): 1\n",
            "('exploration', 'creation'): 1\n",
            "('creation', 'facebook'): 1\n",
            "('facebook', 'personal'): 1\n",
            "('personal', 'legal'): 1\n",
            "('legal', 'conflict'): 1\n",
            "('conflict', 'ensue'): 1\n",
            "('ensue', 'david'): 1\n",
            "('david', 'fincher'): 1\n",
            "('fincher', 'direction'): 1\n",
            "('direction', 'aaron'): 1\n",
            "('aaron', 'sorkin'): 1\n",
            "('sorkin', 'sharp'): 1\n",
            "('sharp', 'screenplay'): 1\n",
            "('screenplay', 'make'): 1\n",
            "('make', 'film'): 2\n",
            "('film', 'modern'): 1\n",
            "('modern', 'classic'): 1\n",
            "('classic', 'smith'): 1\n",
            "('smith', 'portrayal'): 1\n",
            "('portrayal', 'chris'): 1\n",
            "('chris', 'gardner'): 1\n",
            "('gardner', 'pursuit'): 1\n",
            "('pursuit', 'happyness'): 1\n",
            "('happyness', 'touch'): 1\n",
            "('touch', 'inspirational'): 1\n",
            "('inspirational', 'film'): 1\n",
            "('film', 'remind'): 1\n",
            "('remind', 'u'): 1\n",
            "('u', 'determination'): 1\n",
            "('determination', 'unwavering'): 1\n",
            "('unwavering', 'spirit'): 1\n",
            "('spirit', 'anyone'): 1\n",
            "('anyone', 'overcome'): 1\n",
            "('overcome', 'adversity'): 1\n",
            "('adversity', 'achieve'): 1\n",
            "('achieve', 'dream'): 1\n",
            "('dream', 'eternal'): 1\n",
            "('eternal', 'sunshine'): 1\n",
            "('sunshine', 'spotless'): 1\n",
            "('spotless', 'mind'): 1\n",
            "('mind', 'beautifully'): 1\n",
            "('beautifully', 'unconventional'): 1\n",
            "('unconventional', 'love'): 1\n",
            "('love', 'story'): 1\n",
            "('story', 'jim'): 1\n",
            "('jim', 'carrey'): 1\n",
            "('carrey', 'kate'): 1\n",
            "('kate', 'winslet'): 1\n",
            "('winslet', 'shine'): 1\n",
            "('shine', 'role'): 1\n",
            "('role', 'narrative'): 1\n",
            "('narrative', 'tell'): 1\n",
            "('tell', 'nonlinear'): 1\n",
            "('nonlinear', 'fashion'): 1\n",
            "('fashion', 'poignant'): 1\n",
            "('poignant', 'exploration'): 1\n",
            "('exploration', 'love'): 1\n",
            "('love', 'memory'): 1\n",
            "('memory', 'human'): 1\n",
            "('human', 'connection'): 1\n",
            "('connection', 'princess'): 1\n",
            "('princess', 'bride'): 1\n",
            "('bride', 'timeless'): 1\n",
            "('timeless', 'fairy'): 1\n",
            "('fairy', 'tale'): 1\n",
            "('tale', 'perfect'): 1\n",
            "('perfect', 'blend'): 1\n",
            "('blend', 'humor'): 1\n",
            "('humor', 'romance'): 1\n",
            "('romance', 'adventure'): 1\n",
            "('adventure', 'witty'): 1\n",
            "('witty', 'dialogue'): 1\n",
            "('dialogue', 'memorable'): 1\n",
            "('memorable', 'character'): 1\n",
            "('character', 'make'): 1\n",
            "('make', 'film'): 2\n",
            "('film', 'appeal'): 1\n",
            "('appeal', 'kid'): 1\n",
            "('kid', 'adult'): 1\n",
            "('adult', 'inconceivably'): 1\n",
            "('inconceivably', 'delightful'): 1\n",
            "('delightful', 'fifty'): 1\n",
            "('fifty', 'shade'): 1\n",
            "('shade', 'grey'): 1\n",
            "('grey', 'manage'): 1\n",
            "('manage', 'captivate'): 1\n",
            "('captivate', 'enthusiast'): 1\n",
            "('enthusiast', 'critic'): 1\n",
            "('critic', 'alike'): 1\n",
            "('alike', 'film'): 1\n",
            "('film', 'ability'): 1\n",
            "('ability', 'spark'): 1\n",
            "('spark', 'passionate'): 1\n",
            "('passionate', 'discussion'): 1\n",
            "('discussion', 'elicit'): 1\n",
            "('elicit', 'wide'): 1\n",
            "('wide', 'range'): 1\n",
            "('range', 'opinion'): 1\n",
            "('opinion', 'testament'): 1\n",
            "('testament', 'impact'): 1\n",
            "('impact', 'may'): 1\n",
            "('may', 'find'): 1\n",
            "('find', 'controversial'): 1\n",
            "('controversial', 'denying'): 1\n",
            "('denying', 'leave'): 1\n",
            "('leave', 'significant'): 1\n",
            "('significant', 'mark'): 1\n",
            "('mark', 'world'): 1\n",
            "('world', 'cinema'): 1\n",
            "('cinema', 'film'): 1\n",
            "('film', 'conversation'): 1\n",
            "('conversation', 'starter'): 1\n",
            "('starter', 'clear'): 1\n",
            "('clear', 'wo'): 1\n",
            "('wo', 'nt'): 1\n",
            "('nt', 'everyone'): 1\n",
            "('everyone', 'cup'): 1\n",
            "('cup', 'tea'): 1\n",
            "('tea', 'willing'): 1\n",
            "('willing', 'approach'): 1\n",
            "('approach', 'open'): 1\n",
            "('open', 'mind'): 1\n",
            "('mind', 'visually'): 1\n",
            "('visually', 'lush'): 1\n",
            "('lush', 'experience'): 1\n",
            "('experience', 'moment'): 1\n",
            "('moment', 'genuine'): 1\n",
            "('genuine', 'chemistry'): 1\n",
            "('chemistry', 'lead'): 1\n",
            "('lead', 'film'): 1\n",
            "('film', 'manage'): 1\n",
            "('manage', 'offer'): 1\n",
            "('offer', 'something'): 1\n",
            "('something', 'different'): 1\n",
            "('different', 'intriguing'): 1\n",
            "('intriguing', 'world'): 1\n",
            "('world', 'romance'): 1\n",
            "('romance', 'drama'): 1\n"
          ]
        }
      ]
    },
    {
      "cell_type": "code",
      "source": [
        "# Negative bigram count\n",
        "for bigram in negative_bigrams:\n",
        "    bigram_count = negative_bigrams.count(bigram)\n",
        "    print(f\"{bigram}: {bigram_count}\")"
      ],
      "metadata": {
        "id": "IKEdBpn7aHQi",
        "colab": {
          "base_uri": "https://localhost:8080/"
        },
        "outputId": "aee69cb9-9786-4914-92bb-22079473a487"
      },
      "execution_count": null,
      "outputs": [
        {
          "output_type": "stream",
          "name": "stdout",
          "text": [
            "('last', 'airbender'): 1\n",
            "('airbender', 'disaster'): 1\n",
            "('disaster', 'film'): 1\n",
            "('film', 'adaptation'): 1\n",
            "('adaptation', 'butcher'): 1\n",
            "('butcher', 'beloved'): 1\n",
            "('beloved', 'animated'): 1\n",
            "('animated', 'series'): 1\n",
            "('series', 'wooden'): 1\n",
            "('wooden', 'act'): 1\n",
            "('act', 'convolute'): 1\n",
            "('convolute', 'storytelling'): 1\n",
            "('storytelling', 'cringeworthy'): 1\n",
            "('cringeworthy', 'special'): 1\n",
            "('special', 'effect'): 3\n",
            "('effect', 'letdown'): 1\n",
            "('letdown', 'fan'): 1\n",
            "('fan', 'newcomer'): 1\n",
            "('newcomer', 'alike'): 1\n",
            "('alike', 'another'): 1\n",
            "('another', 'transformer'): 1\n",
            "('transformer', 'movie'): 1\n",
            "('movie', 'mindless'): 1\n",
            "('mindless', 'explosion'): 1\n",
            "('explosion', 'incoherent'): 1\n",
            "('incoherent', 'plotlines'): 1\n",
            "('plotlines', 'overreliance'): 1\n",
            "('overreliance', 'cgi'): 1\n",
            "('cgi', 'franchise'): 1\n",
            "('franchise', 'desperately'): 1\n",
            "('desperately', 'need'): 1\n",
            "('need', 'overhaul'): 1\n",
            "('overhaul', 'emoji'): 1\n",
            "('emoji', 'movie'): 1\n",
            "('movie', 'blatant'): 1\n",
            "('blatant', 'cash'): 1\n",
            "('cash', 'grab'): 1\n",
            "('grab', 'shallow'): 1\n",
            "('shallow', 'uninspired'): 1\n",
            "('uninspired', 'plot'): 1\n",
            "('plot', 'fails'): 1\n",
            "('fails', 'deliver'): 1\n",
            "('deliver', 'clever'): 1\n",
            "('clever', 'humor'): 1\n",
            "('humor', 'meaningful'): 1\n",
            "('meaningful', 'message'): 1\n",
            "('message', 'make'): 1\n",
            "('make', 'forgettable'): 1\n",
            "('forgettable', 'disappointing'): 1\n",
            "('disappointing', 'animate'): 1\n",
            "('animate', 'film'): 1\n",
            "('film', 'fifty'): 1\n",
            "('fifty', 'shade'): 2\n",
            "('shade', 'grey'): 2\n",
            "('grey', 'cringeinducing'): 1\n",
            "('cringeinducing', 'attempt'): 1\n",
            "('attempt', 'romance'): 1\n",
            "('romance', 'poorly'): 1\n",
            "('poorly', 'write'): 1\n",
            "('write', 'dialogue'): 1\n",
            "('dialogue', 'unconvincing'): 1\n",
            "('unconvincing', 'chemistry'): 1\n",
            "('chemistry', 'lead'): 1\n",
            "('lead', 'make'): 1\n",
            "('make', 'awkward'): 1\n",
            "('awkward', 'unfulfilling'): 1\n",
            "('unfulfilling', 'cinematic'): 1\n",
            "('cinematic', 'experience'): 2\n",
            "('experience', 'jack'): 1\n",
            "('jack', 'jill'): 1\n",
            "('jill', 'unbearable'): 1\n",
            "('unbearable', 'comedy'): 1\n",
            "('comedy', 'relies'): 1\n",
            "('relies', 'stale'): 1\n",
            "('stale', 'humor'): 1\n",
            "('humor', 'painfully'): 1\n",
            "('painfully', 'unfunny'): 1\n",
            "('unfunny', 'portrayal'): 1\n",
            "('portrayal', 'adam'): 1\n",
            "('adam', 'sandler'): 1\n",
            "('sandler', 'dual'): 1\n",
            "('dual', 'role'): 1\n",
            "('role', 'prime'): 1\n",
            "('prime', 'example'): 1\n",
            "('example', 'lazy'): 1\n",
            "('lazy', 'filmmaking'): 1\n",
            "('filmmaking', 'superman'): 1\n",
            "('superman', 'iv'): 1\n",
            "('iv', 'colossal'): 1\n",
            "('colossal', 'disappointment'): 1\n",
            "('disappointment', 'mar'): 1\n",
            "('mar', 'low'): 1\n",
            "('low', 'budget'): 1\n",
            "('budget', 'laughable'): 1\n",
            "('laughable', 'special'): 2\n",
            "('special', 'effect'): 3\n",
            "('effect', 'poorly'): 1\n",
            "('poorly', 'conceive'): 1\n",
            "('conceive', 'story'): 1\n",
            "('story', 'even'): 1\n",
            "('even', 'christopher'): 1\n",
            "('christopher', 'reeve'): 1\n",
            "('reeve', 'charm'): 1\n",
            "('charm', 'ca'): 1\n",
            "('ca', 'nt'): 1\n",
            "('nt', 'save'): 1\n",
            "('save', 'mess'): 1\n",
            "('mess', 'cat'): 1\n",
            "('cat', 'hat'): 1\n",
            "('hat', 'chaotic'): 1\n",
            "('chaotic', 'misguide'): 1\n",
            "('misguide', 'adaptation'): 1\n",
            "('adaptation', 'dr'): 1\n",
            "('dr', 'seuss'): 1\n",
            "('seuss', 'classic'): 1\n",
            "('classic', 'sacrifice'): 1\n",
            "('sacrifice', 'charm'): 1\n",
            "('charm', 'simplicity'): 1\n",
            "('simplicity', 'source'): 1\n",
            "('source', 'material'): 1\n",
            "('material', 'crude'): 1\n",
            "('crude', 'humor'): 1\n",
            "('humor', 'lackluster'): 1\n",
            "('lackluster', 'narrative'): 1\n",
            "('narrative', 'room'): 1\n",
            "('room', 'widely'): 1\n",
            "('widely', 'regard'): 1\n",
            "('regard', 'one'): 1\n",
            "('one', 'bad'): 1\n",
            "('bad', 'film'): 1\n",
            "('film', 'ever'): 1\n",
            "('ever', 'make'): 1\n",
            "('make', 'disjoint'): 1\n",
            "('disjoint', 'plot'): 1\n",
            "('plot', 'stilted'): 1\n",
            "('stilted', 'act'): 1\n",
            "('act', 'bizarre'): 1\n",
            "('bizarre', 'dialogue'): 1\n",
            "('dialogue', 'turn'): 1\n",
            "('turn', 'cult'): 1\n",
            "('cult', 'classic'): 1\n",
            "('classic', 'right'): 1\n",
            "('right', 'reason'): 1\n",
            "('reason', 'battlefield'): 1\n",
            "('battlefield', 'earth'): 1\n",
            "('earth', 'scifi'): 1\n",
            "('scifi', 'disaster'): 1\n",
            "('disaster', 'convolute'): 1\n",
            "('convolute', 'mess'): 1\n",
            "('mess', 'hammy'): 1\n",
            "('hammy', 'act'): 1\n",
            "('act', 'laughable'): 1\n",
            "('laughable', 'special'): 2\n",
            "('special', 'effect'): 3\n",
            "('effect', 'film'): 1\n",
            "('film', 'remain'): 1\n",
            "('remain', 'buried'): 1\n",
            "('buried', 'annals'): 1\n",
            "('annals', 'cinematic'): 1\n",
            "('cinematic', 'history'): 1\n",
            "('history', 'gigli'): 1\n",
            "('gigli', 'train'): 1\n",
            "('train', 'wreck'): 1\n",
            "('wreck', 'romantic'): 1\n",
            "('romantic', 'comedy'): 1\n",
            "('comedy', 'pair'): 1\n",
            "('pair', 'ben'): 1\n",
            "('ben', 'affleck'): 1\n",
            "('affleck', 'jennifer'): 1\n",
            "('jennifer', 'lopez'): 1\n",
            "('lopez', 'devoid'): 1\n",
            "('devoid', 'chemistry'): 1\n",
            "('chemistry', 'dialogue'): 1\n",
            "('dialogue', 'cringeworthy'): 1\n",
            "('cringeworthy', 'embarrass'): 1\n",
            "('embarrass', 'misstep'): 1\n",
            "('misstep', 'career'): 1\n",
            "('career', 'fifty'): 1\n",
            "('fifty', 'shade'): 2\n",
            "('shade', 'grey'): 2\n",
            "('grey', 'film'): 1\n",
            "('film', 'divide'): 1\n",
            "('divide', 'enthusiast'): 1\n",
            "('enthusiast', 'critic'): 1\n",
            "('critic', 'share'): 1\n",
            "('share', 'devote'): 1\n",
            "('devote', 'fan'): 1\n",
            "('fan', 'also'): 1\n",
            "('also', 'face'): 1\n",
            "('face', 'substantial'): 1\n",
            "('substantial', 'criticism'): 1\n",
            "('criticism', 'film'): 1\n",
            "('film', 'content'): 1\n",
            "('content', 'execution'): 1\n",
            "('execution', 'leave'): 1\n",
            "('leave', 'much'): 1\n",
            "('much', 'desire'): 1\n",
            "('desire', 'make'): 1\n",
            "('make', 'polarize'): 1\n",
            "('polarize', 'cinematic'): 1\n",
            "('cinematic', 'experience'): 2\n",
            "('experience', 'viewer'): 1\n",
            "('viewer', 'reaction'): 1\n",
            "('reaction', 'may'): 1\n",
            "('may', 'vary'): 1\n",
            "('vary', 'widely'): 1\n",
            "('widely', 'movie'): 1\n",
            "('movie', 'evokes'): 1\n",
            "('evokes', 'strong'): 1\n",
            "('strong', 'opinion'): 1\n",
            "('opinion', 'end'): 1\n",
            "('end', 'spectrum'): 1\n",
            "('spectrum', 'film'): 1\n",
            "('film', 'portrayal'): 1\n",
            "('portrayal', 'relationship'): 1\n",
            "('relationship', 'theme'): 1\n",
            "('theme', 'may'): 1\n",
            "('may', 'leave'): 1\n",
            "('leave', 'many'): 1\n",
            "('many', 'viewer'): 1\n",
            "('viewer', 'uncomfortable'): 1\n",
            "('uncomfortable', 'test'): 1\n",
            "('test', 'limit'): 1\n",
            "('limit', 'may'): 1\n",
            "('may', 'find'): 1\n",
            "('find', 'acceptable'): 1\n",
            "('acceptable', 'mainstream'): 1\n",
            "('mainstream', 'cinema'): 1\n",
            "('cinema', 'idea'): 1\n",
            "('idea', 'keep'): 1\n",
            "('keep', 'open'): 1\n",
            "('open', 'mind'): 1\n",
            "('mind', 'essential'): 1\n",
            "('essential', 'filmwatching'): 1\n",
            "('filmwatching', 'particular'): 1\n",
            "('particular', 'movie'): 1\n",
            "('movie', 'might'): 1\n",
            "('might', 'push'): 1\n",
            "('push', 'openness'): 1\n",
            "('openness', 'boundary'): 1\n"
          ]
        }
      ]
    },
    {
      "cell_type": "code",
      "source": [
        "# Function to calculate bigram probabilities\n",
        "def calculate_bigram_probabilities(bigrams,unigrams):\n",
        "\n",
        "    # Calculate conditional probabilities\n",
        "    bigram_probabilities = {}\n",
        "    for bigram in bigrams:\n",
        "        word1, word2 = bigram\n",
        "        bigram_count = bigrams.count(bigram)\n",
        "        unigram_count = unigrams.count(word1)\n",
        "        bigram_probabilities[bigram] = (bigram_count) / (unigram_count)\n",
        "\n",
        "    return bigram_probabilities"
      ],
      "metadata": {
        "id": "Dtqd-ANuasfN"
      },
      "execution_count": null,
      "outputs": []
    },
    {
      "cell_type": "code",
      "source": [
        "# Positive bigram probabilities\n",
        "positive_bigram_probabilities = calculate_bigram_probabilities(positive_bigrams,final_positive_words)\n",
        "print(positive_bigram_probabilities)\n"
      ],
      "metadata": {
        "colab": {
          "base_uri": "https://localhost:8080/"
        },
        "id": "mw5Ba-J2KMv6",
        "outputId": "9df29877-8605-4940-d417-5de859c214b5"
      },
      "execution_count": null,
      "outputs": [
        {
          "output_type": "stream",
          "name": "stdout",
          "text": [
            "{('forrest', 'gump'): 1.0, ('gump', 'absolute'): 1.0, ('absolute', 'masterpiece'): 1.0, ('masterpiece', 'tom'): 0.3333333333333333, ('tom', 'hank'): 1.0, ('hank', 'delivers'): 1.0, ('delivers', 'unforgettable'): 1.0, ('unforgettable', 'performance'): 1.0, ('performance', 'storytelling'): 0.5, ('storytelling', 'heartwarming'): 1.0, ('heartwarming', 'movie'): 1.0, ('movie', 'journey'): 1.0, ('journey', 'life'): 0.5, ('life', 'make'): 1.0, ('make', 'laugh'): 0.2, ('laugh', 'cry'): 1.0, ('cry', 'appreciate'): 1.0, ('appreciate', 'simple'): 1.0, ('simple', 'beauty'): 1.0, ('beauty', 'existence'): 1.0, ('existence', 'shawshank'): 1.0, ('shawshank', 'redemption'): 1.0, ('redemption', 'timeless'): 0.5, ('timeless', 'classic'): 0.5, ('classic', 'powerful'): 0.5, ('powerful', 'theme'): 1.0, ('theme', 'hope'): 1.0, ('hope', 'friendship'): 1.0, ('friendship', 'redemption'): 1.0, ('redemption', 'make'): 0.5, ('make', 'mustwatch'): 0.2, ('mustwatch', 'morgan'): 1.0, ('morgan', 'freeman'): 1.0, ('freeman', 'tim'): 1.0, ('tim', 'robbins'): 1.0, ('robbins', 'give'): 1.0, ('give', 'exceptional'): 1.0, ('exceptional', 'performance'): 1.0, ('performance', 'brilliantly'): 0.5, ('brilliantly', 'craft'): 1.0, ('craft', 'film'): 1.0, ('film', 'epic'): 0.125, ('epic', 'conclusion'): 0.5, ('conclusion', 'lord'): 1.0, ('lord', 'ring'): 1.0, ('ring', 'trilogy'): 1.0, ('trilogy', 'return'): 1.0, ('return', 'king'): 1.0, ('king', 'cinematic'): 1.0, ('cinematic', 'triumph'): 0.5, ('triumph', 'breathtaking'): 1.0, ('breathtaking', 'visuals'): 1.0, ('visuals', 'epic'): 1.0, ('epic', 'battle'): 0.5, ('battle', 'emotionally'): 1.0, ('emotionally', 'resonant'): 1.0, ('resonant', 'story'): 1.0, ('story', 'make'): 0.5, ('make', 'monumental'): 0.2, ('monumental', 'achievement'): 1.0, ('achievement', 'filmmaking'): 1.0, ('filmmaking', 'la'): 1.0, ('la', 'la'): 0.5, ('la', 'land'): 0.5, ('land', 'love'): 1.0, ('love', 'letter'): 0.3333333333333333, ('letter', 'magic'): 1.0, ('magic', 'hollywood'): 1.0, ('hollywood', 'dream'): 1.0, ('dream', 'chemistry'): 0.5, ('chemistry', 'ryan'): 0.5, ('ryan', 'gosling'): 1.0, ('gosling', 'emma'): 1.0, ('emma', 'stone'): 1.0, ('stone', 'enchant'): 1.0, ('enchant', 'music'): 1.0, ('music', 'dance'): 1.0, ('dance', 'sequence'): 1.0, ('sequence', 'pure'): 1.0, ('pure', 'delight'): 1.0, ('delight', 'modern'): 0.5, ('modern', 'musical'): 0.5, ('musical', 'masterpiece'): 1.0, ('masterpiece', 'wes'): 0.3333333333333333, ('wes', 'anderson'): 1.0, ('anderson', 'whimsical'): 1.0, ('whimsical', 'style'): 1.0, ('style', 'shine'): 1.0, ('shine', 'grand'): 0.5, ('grand', 'budapest'): 1.0, ('budapest', 'hotel'): 1.0, ('hotel', 'quirky'): 1.0, ('quirky', 'character'): 1.0, ('character', 'colorful'): 0.5, ('colorful', 'cinematography'): 1.0, ('cinematography', 'visual'): 1.0, ('visual', 'narrative'): 0.5, ('narrative', 'delight'): 0.5, ('delight', 'film'): 0.5, ('film', 'charm'): 0.125, ('charm', 'delightful'): 1.0, ('delightful', 'experience'): 0.5, ('experience', 'inception'): 0.5, ('inception', 'mindbending'): 1.0, ('mindbending', 'brilliance'): 1.0, ('brilliance', 'christopher'): 1.0, ('christopher', 'nolan'): 1.0, ('nolan', 'intricate'): 1.0, ('intricate', 'plot'): 1.0, ('plot', 'stun'): 1.0, ('stun', 'visual'): 1.0, ('visual', 'effect'): 0.5, ('effect', 'han'): 1.0, ('han', 'zimmer'): 1.0, ('zimmer', 'haunt'): 1.0, ('haunt', 'score'): 1.0, ('score', 'create'): 1.0, ('create', 'cinematic'): 1.0, ('cinematic', 'journey'): 0.5, ('journey', 'keep'): 0.5, ('keep', 'edge'): 1.0, ('edge', 'seat'): 1.0, ('seat', 'true'): 1.0, ('true', 'masterpiece'): 1.0, ('masterpiece', 'scifi'): 0.3333333333333333, ('scifi', 'cinema'): 1.0, ('cinema', 'social'): 0.5, ('social', 'network'): 1.0, ('network', 'captivate'): 1.0, ('captivate', 'exploration'): 0.5, ('exploration', 'creation'): 0.5, ('creation', 'facebook'): 1.0, ('facebook', 'personal'): 1.0, ('personal', 'legal'): 1.0, ('legal', 'conflict'): 1.0, ('conflict', 'ensue'): 1.0, ('ensue', 'david'): 1.0, ('david', 'fincher'): 1.0, ('fincher', 'direction'): 1.0, ('direction', 'aaron'): 1.0, ('aaron', 'sorkin'): 1.0, ('sorkin', 'sharp'): 1.0, ('sharp', 'screenplay'): 1.0, ('screenplay', 'make'): 1.0, ('make', 'film'): 0.4, ('film', 'modern'): 0.125, ('modern', 'classic'): 0.5, ('classic', 'smith'): 0.5, ('smith', 'portrayal'): 1.0, ('portrayal', 'chris'): 1.0, ('chris', 'gardner'): 1.0, ('gardner', 'pursuit'): 1.0, ('pursuit', 'happyness'): 1.0, ('happyness', 'touch'): 1.0, ('touch', 'inspirational'): 1.0, ('inspirational', 'film'): 1.0, ('film', 'remind'): 0.125, ('remind', 'u'): 1.0, ('u', 'determination'): 1.0, ('determination', 'unwavering'): 1.0, ('unwavering', 'spirit'): 1.0, ('spirit', 'anyone'): 1.0, ('anyone', 'overcome'): 1.0, ('overcome', 'adversity'): 1.0, ('adversity', 'achieve'): 1.0, ('achieve', 'dream'): 1.0, ('dream', 'eternal'): 0.5, ('eternal', 'sunshine'): 1.0, ('sunshine', 'spotless'): 1.0, ('spotless', 'mind'): 1.0, ('mind', 'beautifully'): 0.5, ('beautifully', 'unconventional'): 1.0, ('unconventional', 'love'): 1.0, ('love', 'story'): 0.3333333333333333, ('story', 'jim'): 0.5, ('jim', 'carrey'): 1.0, ('carrey', 'kate'): 1.0, ('kate', 'winslet'): 1.0, ('winslet', 'shine'): 1.0, ('shine', 'role'): 0.5, ('role', 'narrative'): 1.0, ('narrative', 'tell'): 0.5, ('tell', 'nonlinear'): 1.0, ('nonlinear', 'fashion'): 1.0, ('fashion', 'poignant'): 1.0, ('poignant', 'exploration'): 1.0, ('exploration', 'love'): 0.5, ('love', 'memory'): 0.3333333333333333, ('memory', 'human'): 1.0, ('human', 'connection'): 1.0, ('connection', 'princess'): 1.0, ('princess', 'bride'): 1.0, ('bride', 'timeless'): 1.0, ('timeless', 'fairy'): 0.5, ('fairy', 'tale'): 1.0, ('tale', 'perfect'): 1.0, ('perfect', 'blend'): 1.0, ('blend', 'humor'): 1.0, ('humor', 'romance'): 1.0, ('romance', 'adventure'): 0.5, ('adventure', 'witty'): 1.0, ('witty', 'dialogue'): 1.0, ('dialogue', 'memorable'): 1.0, ('memorable', 'character'): 1.0, ('character', 'make'): 0.5, ('film', 'appeal'): 0.125, ('appeal', 'kid'): 1.0, ('kid', 'adult'): 1.0, ('adult', 'inconceivably'): 1.0, ('inconceivably', 'delightful'): 1.0, ('delightful', 'fifty'): 0.5, ('fifty', 'shade'): 1.0, ('shade', 'grey'): 1.0, ('grey', 'manage'): 1.0, ('manage', 'captivate'): 0.5, ('captivate', 'enthusiast'): 0.5, ('enthusiast', 'critic'): 1.0, ('critic', 'alike'): 1.0, ('alike', 'film'): 1.0, ('film', 'ability'): 0.125, ('ability', 'spark'): 1.0, ('spark', 'passionate'): 1.0, ('passionate', 'discussion'): 1.0, ('discussion', 'elicit'): 1.0, ('elicit', 'wide'): 1.0, ('wide', 'range'): 1.0, ('range', 'opinion'): 1.0, ('opinion', 'testament'): 1.0, ('testament', 'impact'): 1.0, ('impact', 'may'): 1.0, ('may', 'find'): 1.0, ('find', 'controversial'): 1.0, ('controversial', 'denying'): 1.0, ('denying', 'leave'): 1.0, ('leave', 'significant'): 1.0, ('significant', 'mark'): 1.0, ('mark', 'world'): 1.0, ('world', 'cinema'): 0.5, ('cinema', 'film'): 0.5, ('film', 'conversation'): 0.125, ('conversation', 'starter'): 1.0, ('starter', 'clear'): 1.0, ('clear', 'wo'): 1.0, ('wo', 'nt'): 1.0, ('nt', 'everyone'): 1.0, ('everyone', 'cup'): 1.0, ('cup', 'tea'): 1.0, ('tea', 'willing'): 1.0, ('willing', 'approach'): 1.0, ('approach', 'open'): 1.0, ('open', 'mind'): 1.0, ('mind', 'visually'): 0.5, ('visually', 'lush'): 1.0, ('lush', 'experience'): 1.0, ('experience', 'moment'): 0.5, ('moment', 'genuine'): 1.0, ('genuine', 'chemistry'): 1.0, ('chemistry', 'lead'): 0.5, ('lead', 'film'): 1.0, ('film', 'manage'): 0.125, ('manage', 'offer'): 0.5, ('offer', 'something'): 1.0, ('something', 'different'): 1.0, ('different', 'intriguing'): 1.0, ('intriguing', 'world'): 1.0, ('world', 'romance'): 0.5, ('romance', 'drama'): 0.5}\n"
          ]
        }
      ]
    },
    {
      "cell_type": "code",
      "source": [
        "# Negative bigram probabilities\n",
        "negative_bigram_probabilities = calculate_bigram_probabilities(negative_bigrams,final_negative_words)\n",
        "print(negative_bigram_probabilities)"
      ],
      "metadata": {
        "colab": {
          "base_uri": "https://localhost:8080/"
        },
        "id": "q-zbGczZZRV1",
        "outputId": "e6da0fb7-722f-49b9-fd5f-e704ce344677"
      },
      "execution_count": null,
      "outputs": [
        {
          "output_type": "stream",
          "name": "stdout",
          "text": [
            "{('last', 'airbender'): 1.0, ('airbender', 'disaster'): 1.0, ('disaster', 'film'): 0.5, ('film', 'adaptation'): 0.14285714285714285, ('adaptation', 'butcher'): 0.5, ('butcher', 'beloved'): 1.0, ('beloved', 'animated'): 1.0, ('animated', 'series'): 1.0, ('series', 'wooden'): 1.0, ('wooden', 'act'): 1.0, ('act', 'convolute'): 0.3333333333333333, ('convolute', 'storytelling'): 0.5, ('storytelling', 'cringeworthy'): 1.0, ('cringeworthy', 'special'): 0.5, ('special', 'effect'): 1.0, ('effect', 'letdown'): 0.3333333333333333, ('letdown', 'fan'): 1.0, ('fan', 'newcomer'): 0.5, ('newcomer', 'alike'): 1.0, ('alike', 'another'): 1.0, ('another', 'transformer'): 1.0, ('transformer', 'movie'): 1.0, ('movie', 'mindless'): 0.25, ('mindless', 'explosion'): 1.0, ('explosion', 'incoherent'): 1.0, ('incoherent', 'plotlines'): 1.0, ('plotlines', 'overreliance'): 1.0, ('overreliance', 'cgi'): 1.0, ('cgi', 'franchise'): 1.0, ('franchise', 'desperately'): 1.0, ('desperately', 'need'): 1.0, ('need', 'overhaul'): 1.0, ('overhaul', 'emoji'): 1.0, ('emoji', 'movie'): 1.0, ('movie', 'blatant'): 0.25, ('blatant', 'cash'): 1.0, ('cash', 'grab'): 1.0, ('grab', 'shallow'): 1.0, ('shallow', 'uninspired'): 1.0, ('uninspired', 'plot'): 1.0, ('plot', 'fails'): 0.5, ('fails', 'deliver'): 1.0, ('deliver', 'clever'): 1.0, ('clever', 'humor'): 1.0, ('humor', 'meaningful'): 0.3333333333333333, ('meaningful', 'message'): 1.0, ('message', 'make'): 1.0, ('make', 'forgettable'): 0.25, ('forgettable', 'disappointing'): 1.0, ('disappointing', 'animate'): 1.0, ('animate', 'film'): 1.0, ('film', 'fifty'): 0.14285714285714285, ('fifty', 'shade'): 1.0, ('shade', 'grey'): 1.0, ('grey', 'cringeinducing'): 0.5, ('cringeinducing', 'attempt'): 1.0, ('attempt', 'romance'): 1.0, ('romance', 'poorly'): 1.0, ('poorly', 'write'): 0.5, ('write', 'dialogue'): 1.0, ('dialogue', 'unconvincing'): 0.3333333333333333, ('unconvincing', 'chemistry'): 1.0, ('chemistry', 'lead'): 0.5, ('lead', 'make'): 1.0, ('make', 'awkward'): 0.25, ('awkward', 'unfulfilling'): 1.0, ('unfulfilling', 'cinematic'): 1.0, ('cinematic', 'experience'): 0.6666666666666666, ('experience', 'jack'): 0.5, ('jack', 'jill'): 1.0, ('jill', 'unbearable'): 1.0, ('unbearable', 'comedy'): 1.0, ('comedy', 'relies'): 0.5, ('relies', 'stale'): 1.0, ('stale', 'humor'): 1.0, ('humor', 'painfully'): 0.3333333333333333, ('painfully', 'unfunny'): 1.0, ('unfunny', 'portrayal'): 1.0, ('portrayal', 'adam'): 0.5, ('adam', 'sandler'): 1.0, ('sandler', 'dual'): 1.0, ('dual', 'role'): 1.0, ('role', 'prime'): 1.0, ('prime', 'example'): 1.0, ('example', 'lazy'): 1.0, ('lazy', 'filmmaking'): 1.0, ('filmmaking', 'superman'): 1.0, ('superman', 'iv'): 1.0, ('iv', 'colossal'): 1.0, ('colossal', 'disappointment'): 1.0, ('disappointment', 'mar'): 1.0, ('mar', 'low'): 1.0, ('low', 'budget'): 1.0, ('budget', 'laughable'): 1.0, ('laughable', 'special'): 1.0, ('effect', 'poorly'): 0.3333333333333333, ('poorly', 'conceive'): 0.5, ('conceive', 'story'): 1.0, ('story', 'even'): 1.0, ('even', 'christopher'): 1.0, ('christopher', 'reeve'): 1.0, ('reeve', 'charm'): 1.0, ('charm', 'ca'): 0.5, ('ca', 'nt'): 1.0, ('nt', 'save'): 1.0, ('save', 'mess'): 1.0, ('mess', 'cat'): 0.5, ('cat', 'hat'): 1.0, ('hat', 'chaotic'): 1.0, ('chaotic', 'misguide'): 1.0, ('misguide', 'adaptation'): 1.0, ('adaptation', 'dr'): 0.5, ('dr', 'seuss'): 1.0, ('seuss', 'classic'): 1.0, ('classic', 'sacrifice'): 0.5, ('sacrifice', 'charm'): 1.0, ('charm', 'simplicity'): 0.5, ('simplicity', 'source'): 1.0, ('source', 'material'): 1.0, ('material', 'crude'): 1.0, ('crude', 'humor'): 1.0, ('humor', 'lackluster'): 0.3333333333333333, ('lackluster', 'narrative'): 1.0, ('narrative', 'room'): 1.0, ('room', 'widely'): 1.0, ('widely', 'regard'): 0.5, ('regard', 'one'): 1.0, ('one', 'bad'): 1.0, ('bad', 'film'): 1.0, ('film', 'ever'): 0.14285714285714285, ('ever', 'make'): 1.0, ('make', 'disjoint'): 0.25, ('disjoint', 'plot'): 1.0, ('plot', 'stilted'): 0.5, ('stilted', 'act'): 1.0, ('act', 'bizarre'): 0.3333333333333333, ('bizarre', 'dialogue'): 1.0, ('dialogue', 'turn'): 0.3333333333333333, ('turn', 'cult'): 1.0, ('cult', 'classic'): 1.0, ('classic', 'right'): 0.5, ('right', 'reason'): 1.0, ('reason', 'battlefield'): 1.0, ('battlefield', 'earth'): 1.0, ('earth', 'scifi'): 1.0, ('scifi', 'disaster'): 1.0, ('disaster', 'convolute'): 0.5, ('convolute', 'mess'): 0.5, ('mess', 'hammy'): 0.5, ('hammy', 'act'): 1.0, ('act', 'laughable'): 0.3333333333333333, ('effect', 'film'): 0.3333333333333333, ('film', 'remain'): 0.14285714285714285, ('remain', 'buried'): 1.0, ('buried', 'annals'): 1.0, ('annals', 'cinematic'): 1.0, ('cinematic', 'history'): 0.3333333333333333, ('history', 'gigli'): 1.0, ('gigli', 'train'): 1.0, ('train', 'wreck'): 1.0, ('wreck', 'romantic'): 1.0, ('romantic', 'comedy'): 1.0, ('comedy', 'pair'): 0.5, ('pair', 'ben'): 1.0, ('ben', 'affleck'): 1.0, ('affleck', 'jennifer'): 1.0, ('jennifer', 'lopez'): 1.0, ('lopez', 'devoid'): 1.0, ('devoid', 'chemistry'): 1.0, ('chemistry', 'dialogue'): 0.5, ('dialogue', 'cringeworthy'): 0.3333333333333333, ('cringeworthy', 'embarrass'): 0.5, ('embarrass', 'misstep'): 1.0, ('misstep', 'career'): 1.0, ('career', 'fifty'): 1.0, ('grey', 'film'): 0.5, ('film', 'divide'): 0.14285714285714285, ('divide', 'enthusiast'): 1.0, ('enthusiast', 'critic'): 1.0, ('critic', 'share'): 1.0, ('share', 'devote'): 1.0, ('devote', 'fan'): 1.0, ('fan', 'also'): 0.5, ('also', 'face'): 1.0, ('face', 'substantial'): 1.0, ('substantial', 'criticism'): 1.0, ('criticism', 'film'): 1.0, ('film', 'content'): 0.14285714285714285, ('content', 'execution'): 1.0, ('execution', 'leave'): 1.0, ('leave', 'much'): 0.5, ('much', 'desire'): 1.0, ('desire', 'make'): 1.0, ('make', 'polarize'): 0.25, ('polarize', 'cinematic'): 1.0, ('experience', 'viewer'): 0.5, ('viewer', 'reaction'): 0.5, ('reaction', 'may'): 1.0, ('may', 'vary'): 0.3333333333333333, ('vary', 'widely'): 1.0, ('widely', 'movie'): 0.5, ('movie', 'evokes'): 0.25, ('evokes', 'strong'): 1.0, ('strong', 'opinion'): 1.0, ('opinion', 'end'): 1.0, ('end', 'spectrum'): 1.0, ('spectrum', 'film'): 1.0, ('film', 'portrayal'): 0.14285714285714285, ('portrayal', 'relationship'): 0.5, ('relationship', 'theme'): 1.0, ('theme', 'may'): 1.0, ('may', 'leave'): 0.3333333333333333, ('leave', 'many'): 0.5, ('many', 'viewer'): 1.0, ('viewer', 'uncomfortable'): 0.5, ('uncomfortable', 'test'): 1.0, ('test', 'limit'): 1.0, ('limit', 'may'): 1.0, ('may', 'find'): 0.3333333333333333, ('find', 'acceptable'): 1.0, ('acceptable', 'mainstream'): 1.0, ('mainstream', 'cinema'): 1.0, ('cinema', 'idea'): 1.0, ('idea', 'keep'): 1.0, ('keep', 'open'): 1.0, ('open', 'mind'): 1.0, ('mind', 'essential'): 1.0, ('essential', 'filmwatching'): 1.0, ('filmwatching', 'particular'): 1.0, ('particular', 'movie'): 1.0, ('movie', 'might'): 0.25, ('might', 'push'): 1.0, ('push', 'openness'): 1.0, ('openness', 'boundary'): 1.0}\n"
          ]
        }
      ]
    },
    {
      "cell_type": "code",
      "source": [
        "def classify_movie_review(test_review):\n",
        "    N = 2\n",
        "\n",
        "    # Remove punctuation and stop words, tokenize and lemmatize the words in the test_review\n",
        "    test_review_no_punct = ''.join([char for char in test_review if char not in string.punctuation])\n",
        "    test_words = word_tokenize(test_review_no_punct)\n",
        "    test_words = lemmatize_reviews(test_words)\n",
        "\n",
        "    # Generate bigrams for the test review\n",
        "    test_bigrams = list(bigrams(test_words))\n",
        "\n",
        "    # Calculate the N-gram probability for the test review\n",
        "    positive_prob = 1.0\n",
        "    negative_prob = 1.0\n",
        "\n",
        "    # Calculate probabilities for positive bigrams\n",
        "    for bigram in test_bigrams:\n",
        "        if bigram in positive_bigram_probabilities:\n",
        "            positive_prob *= positive_bigram_probabilities[bigram]\n",
        "\n",
        "    # Calculate probabilities for negative bigrams\n",
        "    for bigram in test_bigrams:\n",
        "        if bigram in negative_bigram_probabilities:\n",
        "            negative_prob *= negative_bigram_probabilities[bigram]\n",
        "\n",
        "    # Predict the category of the test movie review\n",
        "    if positive_prob > negative_prob:\n",
        "       prediction_explanation = \"The review is positive.\"\n",
        "    elif positive_prob < negative_prob:\n",
        "       prediction_explanation = \"The review is negative.\"\n",
        "    else:\n",
        "       prediction_explanation = \"The review is neutral.\"\n",
        "\n",
        "    print(f\"Positive Probability: {positive_prob}\")\n",
        "    print(f\"Negative Probability: {negative_prob}\")\n",
        "\n",
        "    return prediction_explanation\n"
      ],
      "metadata": {
        "id": "L5iB-7hQ8s9a"
      },
      "execution_count": null,
      "outputs": []
    },
    {
      "cell_type": "markdown",
      "source": [
        "##Calculate the Bi-Gram probability for the test movie review"
      ],
      "metadata": {
        "id": "QoJoP1ufdO6Q"
      }
    },
    {
      "cell_type": "code",
      "source": [
        "# Call the function and print the output\n",
        "test_review = \"It's clear that the movie has both its enthusiasts and critics. While it may not be to everyone's taste, it's worth watching with an open mind to form your own opinion.\"\n",
        "\n",
        "output = classify_movie_review(test_review)\n",
        "print(output)"
      ],
      "metadata": {
        "colab": {
          "base_uri": "https://localhost:8080/"
        },
        "id": "79TkDsPu5DKF",
        "outputId": "39014083-6e76-46e1-a792-7266d9dd4aa7"
      },
      "execution_count": null,
      "outputs": [
        {
          "output_type": "stream",
          "name": "stdout",
          "text": [
            "Positive Probability: 1.0\n",
            "Negative Probability: 1.0\n",
            "The review is neutral.\n"
          ]
        }
      ]
    }
  ]
}